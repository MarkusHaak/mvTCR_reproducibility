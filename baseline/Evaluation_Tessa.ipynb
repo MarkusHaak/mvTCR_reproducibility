{
 "cells": [
  {
   "cell_type": "markdown",
   "id": "21932977",
   "metadata": {},
   "source": [
    "# Evaluation Tessa\n",
    "\n",
    "In this notebook, we calculate the performance of Tessa on our datasets. Please run the script tessa_wraper for each dataset before running this notebook."
   ]
  },
  {
   "cell_type": "code",
   "execution_count": 1,
   "id": "3e5b2f28",
   "metadata": {},
   "outputs": [],
   "source": [
    "import os\n",
    "import pandas as pd\n",
    "import numpy as np\n",
    "\n",
    "os.environ['R_HOME'] = 'C:/Users/felix.drost/Anaconda3/envs/tessa/Lib/R' \n",
    "import rpy2.robjects as rob"
   ]
  },
  {
   "cell_type": "code",
   "execution_count": 2,
   "id": "f64c48b6",
   "metadata": {},
   "outputs": [],
   "source": [
    "import sys\n",
    "sys.path.append('..')\n",
    "from tcr_embedding.evaluation.Metrics import get_knn_classification, get_normalized_mutual_information\n",
    "from tcr_embedding.evaluation.Metrics import get_silhouette_scores"
   ]
  },
  {
   "cell_type": "markdown",
   "id": "c42dd925",
   "metadata": {},
   "source": [
    "## Functions for Tessa embedding"
   ]
  },
  {
   "cell_type": "code",
   "execution_count": 3,
   "id": "31cbf4f2",
   "metadata": {},
   "outputs": [],
   "source": [
    "def get_tessa_weights(base_dir):\n",
    "    \"\"\"\n",
    "    Load the b-values from the result RData\n",
    "    :param base_dir: path to the base folder of the experiment\n",
    "    :return: numpy array [3] giving the b-weights\n",
    "    \"\"\"\n",
    "    rob.r['load'](f'{base_dir}/res/tessa_final.RData')\n",
    "    b = rob.r['tessa_results'][0]\n",
    "    b = np.array(b)\n",
    "    return b\n",
    "\n",
    "\n",
    "def get_tessa_unweighted_distances(base_dir):\n",
    "    \"\"\"\n",
    "    Extract the Briseis encoding from file\n",
    "    :param base_dir: path to the base folder of the experiment\n",
    "    :return: numpy array [num_cells, 30] giving the embedding space by Briseis\n",
    "    \"\"\"\n",
    "    unweighted_dist = pd.read_csv(f'{base_dir}/tessa_tcr_embedding.csv', index_col=0)\n",
    "    unweighted_dist = unweighted_dist.values\n",
    "    return unweighted_dist\n",
    "\n",
    "\n",
    "def get_weighted_distances(unweighted_dist, b):\n",
    "    \"\"\"\n",
    "    Calculates the weigthed distance\n",
    "    :param unweighted_dist: numpy array [num_cells, 30] giving the TCR embedding\n",
    "    :param b: numpy array [30] giving the position weights\n",
    "    :return: numpy array [num_cells, 30] giving the weighted embedding\n",
    "    \"\"\"\n",
    "    weighted_dist = unweighted_dist * b\n",
    "    return weighted_dist\n",
    "\n",
    "def calculate_embedding(donor, do_atlas=True, do_weighting=True):\n",
    "    suffix = 'atlas' \n",
    "    if not do_atlas:\n",
    "        suffix = 'query'\n",
    "    dir_out = f'tmp/{donor}/{suffix}'    \n",
    "    embedding = get_tessa_unweighted_distances(dir_out)\n",
    "\n",
    "    if do_weighting:\n",
    "        b = get_tessa_weights(f'tmp/{donor}/atlas')\n",
    "        embedding = get_weighted_distances(embedding, b)\n",
    "    return embedding"
   ]
  },
  {
   "cell_type": "markdown",
   "id": "1a5e1b81",
   "metadata": {},
   "source": [
    "## Calculate the Embeddings for different datasets"
   ]
  },
  {
   "cell_type": "code",
   "execution_count": 4,
   "id": "54ddce18",
   "metadata": {},
   "outputs": [],
   "source": [
    "donor1_weighted = [calculate_embedding('donor_1', do_atlas=True, do_weighting=True),\n",
    "                  calculate_embedding('donor_1', do_atlas=False, do_weighting=True)]\n",
    "donor1_unweighted = [calculate_embedding('donor_1', do_atlas=True, do_weighting=False),\n",
    "                  calculate_embedding('donor_1', do_atlas=False, do_weighting=False)]\n",
    "donor2_weighted = [calculate_embedding('donor_2', do_atlas=True, do_weighting=True),\n",
    "                  calculate_embedding('donor_2', do_atlas=False, do_weighting=True)]\n",
    "donor2_unweighted = [calculate_embedding('donor_2', do_atlas=True, do_weighting=False),\n",
    "                  calculate_embedding('donor_2', do_atlas=False, do_weighting=False)]"
   ]
  },
  {
   "cell_type": "code",
   "execution_count": 5,
   "id": "3ac60bed",
   "metadata": {},
   "outputs": [],
   "source": [
    "embedding_dict = {\n",
    "    'donor_1_weighted': donor1_weighted,\n",
    "    'donor_1_unweighted': donor1_unweighted,\n",
    "    'donor_2_weighted': donor2_weighted,\n",
    "    'donor_2_unweighted': donor2_unweighted,\n",
    "}"
   ]
  },
  {
   "cell_type": "markdown",
   "id": "ef7d43d0",
   "metadata": {},
   "source": [
    "## knn Evaluation"
   ]
  },
  {
   "cell_type": "code",
   "execution_count": 6,
   "id": "4d4b98fc",
   "metadata": {},
   "outputs": [],
   "source": [
    "def get_labels(donor, return_df=False, col='binding_name'):\n",
    "    \"\"\"\n",
    "    Extract the labels from the TCR file\n",
    "    :param donor: id of the 10x donor\n",
    "    :return: list [num_cells], list [num_cells] representing the binding labels for atlas and query set\n",
    "    \"\"\"\n",
    "    path_labels = f'../data/tessa/10x/{donor}/'\n",
    "    if donor == 'covid':\n",
    "        path_labels = '../data/tessa/covid/all_donor/'\n",
    "    df_atlas = pd.read_csv(path_labels+'tcrs_atlas.csv')\n",
    "    df_query = pd.read_csv(path_labels+'tcrs_query.csv')\n",
    "    if not return_df:\n",
    "        return df_atlas[col].tolist(), df_query[col].tolist()\n",
    "    df_atlas = df_atlas[['contig_id', col]]\n",
    "    df_query = df_query[['contig_id', col]]\n",
    "    \n",
    "    df_atlas = df_atlas.set_index('contig_id')\n",
    "    df_atlas.index.name = None\n",
    "    df_query = df_query.set_index('contig_id')\n",
    "    df_query.index.name = None\n",
    "    return df_atlas, df_query"
   ]
  },
  {
   "cell_type": "code",
   "execution_count": 7,
   "id": "b298f6ec",
   "metadata": {},
   "outputs": [],
   "source": [
    "res_knn = {}\n",
    "for setting, embeddings in embedding_dict.items():\n",
    "    if 'covid' in setting:\n",
    "        continue\n",
    "    donor = '_'.join(setting.split('_')[0:-1])\n",
    "    model = setting.split('_')[-1]\n",
    "    labels_atlas, labels_query = get_labels(donor)\n",
    "    results = get_knn_classification(embeddings[0], embeddings[1], labels_atlas, labels_query)\n",
    "    if model not in res_knn.keys():\n",
    "        res_knn[model] = {}\n",
    "    res_knn[model][donor] = results['weighted avg']['f1-score']\n",
    "    "
   ]
  },
  {
   "cell_type": "code",
   "execution_count": 8,
   "id": "7ba48387",
   "metadata": {},
   "outputs": [
    {
     "data": {
      "text/html": [
       "<div>\n",
       "<style scoped>\n",
       "    .dataframe tbody tr th:only-of-type {\n",
       "        vertical-align: middle;\n",
       "    }\n",
       "\n",
       "    .dataframe tbody tr th {\n",
       "        vertical-align: top;\n",
       "    }\n",
       "\n",
       "    .dataframe thead th {\n",
       "        text-align: right;\n",
       "    }\n",
       "</style>\n",
       "<table border=\"1\" class=\"dataframe\">\n",
       "  <thead>\n",
       "    <tr style=\"text-align: right;\">\n",
       "      <th></th>\n",
       "      <th>weighted</th>\n",
       "      <th>unweighted</th>\n",
       "    </tr>\n",
       "  </thead>\n",
       "  <tbody>\n",
       "    <tr>\n",
       "      <th>donor_1</th>\n",
       "      <td>0.55</td>\n",
       "      <td>0.59</td>\n",
       "    </tr>\n",
       "    <tr>\n",
       "      <th>donor_2</th>\n",
       "      <td>0.86</td>\n",
       "      <td>0.87</td>\n",
       "    </tr>\n",
       "  </tbody>\n",
       "</table>\n",
       "</div>"
      ],
      "text/plain": [
       "         weighted  unweighted\n",
       "donor_1      0.55        0.59\n",
       "donor_2      0.86        0.87"
      ]
     },
     "execution_count": 8,
     "metadata": {},
     "output_type": "execute_result"
    }
   ],
   "source": [
    "pd.set_option(\"display.precision\", 2)\n",
    "df_knn = pd.DataFrame(res_knn)\n",
    "df_knn"
   ]
  },
  {
   "cell_type": "markdown",
   "id": "7298d558",
   "metadata": {},
   "source": [
    "## Clustering Scores - NMI"
   ]
  },
  {
   "cell_type": "code",
   "execution_count": 9,
   "id": "b32c295c",
   "metadata": {},
   "outputs": [],
   "source": [
    "def get_tessa_clusters(donor):\n",
    "    rob.r['load'](f'tmp/{donor}/atlas/res/tessa_final.RData')\n",
    "    clusters = rob.r['tessa_results'][1]\n",
    "    df_clusters = pd.DataFrame(clusters)\n",
    "    df_clusters = df_clusters.transpose()[[0, 2]]\n",
    "    df_clusters[0] = [name.replace('.', '-') for name in df_clusters[0]]\n",
    "    df_clusters = df_clusters.set_index(0)\n",
    "    df_clusters.index.name = None\n",
    "    df_clusters.columns = ['cluster']\n",
    "    return df_clusters"
   ]
  },
  {
   "cell_type": "code",
   "execution_count": 10,
   "id": "8f96b8be",
   "metadata": {},
   "outputs": [],
   "source": [
    "res_cluster = {}\n",
    "for setting, embeddings in embedding_dict.items():\n",
    "    donor = '_'.join(setting.split('_')[0:-1])\n",
    "    model = setting.split('_')[-1]\n",
    "    if model == 'unweighted':\n",
    "        continue\n",
    "    labels_atlas, _ = get_labels(donor, return_df=True)\n",
    "    labels_predicted = get_tessa_clusters(donor)\n",
    "    df_full = pd.concat([labels_atlas, labels_predicted], axis=1)\n",
    "    results = get_normalized_mutual_information(df_full['binding_name'], df_full['cluster'])\n",
    "    if 'NMI' not in res_cluster.keys():\n",
    "        res_cluster['NMI'] = {}\n",
    "    res_cluster['NMI'][donor] = results"
   ]
  },
  {
   "cell_type": "markdown",
   "id": "dde669d3",
   "metadata": {},
   "source": [
    "## Cluster Scores - Silhoutte"
   ]
  },
  {
   "cell_type": "code",
   "execution_count": 11,
   "id": "5cfe75a4",
   "metadata": {},
   "outputs": [],
   "source": [
    "for setting, embeddings in embedding_dict.items():\n",
    "    donor = '_'.join(setting.split('_')[0:-1])\n",
    "    model = setting.split('_')[-1]\n",
    "    if model == 'unweighted':\n",
    "        continue\n",
    "    \n",
    "    labels_predicted = get_tessa_clusters(donor)\n",
    "    results = get_silhouette_scores(embeddings[0], labels_predicted['cluster'])\n",
    "    if 'AWS' not in res_cluster.keys():\n",
    "        res_cluster['AWS'] = {}\n",
    "    res_cluster['AWS'][donor] = results"
   ]
  },
  {
   "cell_type": "code",
   "execution_count": 12,
   "id": "3f55a8a2",
   "metadata": {},
   "outputs": [
    {
     "name": "stdout",
     "output_type": "stream",
     "text": [
      "Tessa clustering scores\n"
     ]
    },
    {
     "data": {
      "text/html": [
       "<div>\n",
       "<style scoped>\n",
       "    .dataframe tbody tr th:only-of-type {\n",
       "        vertical-align: middle;\n",
       "    }\n",
       "\n",
       "    .dataframe tbody tr th {\n",
       "        vertical-align: top;\n",
       "    }\n",
       "\n",
       "    .dataframe thead th {\n",
       "        text-align: right;\n",
       "    }\n",
       "</style>\n",
       "<table border=\"1\" class=\"dataframe\">\n",
       "  <thead>\n",
       "    <tr style=\"text-align: right;\">\n",
       "      <th></th>\n",
       "      <th>NMI</th>\n",
       "      <th>AWS</th>\n",
       "    </tr>\n",
       "  </thead>\n",
       "  <tbody>\n",
       "    <tr>\n",
       "      <th>donor_1</th>\n",
       "      <td>0.48</td>\n",
       "      <td>0.71</td>\n",
       "    </tr>\n",
       "    <tr>\n",
       "      <th>donor_2</th>\n",
       "      <td>0.41</td>\n",
       "      <td>0.76</td>\n",
       "    </tr>\n",
       "  </tbody>\n",
       "</table>\n",
       "</div>"
      ],
      "text/plain": [
       "          NMI   AWS\n",
       "donor_1  0.48  0.71\n",
       "donor_2  0.41  0.76"
      ]
     },
     "execution_count": 12,
     "metadata": {},
     "output_type": "execute_result"
    }
   ],
   "source": [
    "pd.set_option(\"display.precision\", 2)\n",
    "df_cluster = pd.DataFrame(res_cluster)\n",
    "print('Tessa clustering scores')\n",
    "df_cluster"
   ]
  },
  {
   "cell_type": "markdown",
   "id": "f2766fb1",
   "metadata": {},
   "source": [
    "## UMAP"
   ]
  },
  {
   "cell_type": "code",
   "execution_count": 13,
   "id": "791792a7",
   "metadata": {},
   "outputs": [],
   "source": [
    "import scanpy as sc\n",
    "import anndata as ad\n",
    "from tcr_embedding.constants import ANTIGEN_COLORS\n",
    "import matplotlib.pyplot as plt\n",
    "plt.rcParams[\"figure.figsize\"] = (8, 6)"
   ]
  },
  {
   "cell_type": "code",
   "execution_count": 14,
   "id": "e4d778fe",
   "metadata": {
    "scrolled": true
   },
   "outputs": [
    {
     "name": "stderr",
     "output_type": "stream",
     "text": [
      "... storing 'binding' as categorical\n"
     ]
    },
    {
     "data": {
      "image/png": "[encoded data removed]",
      "text/plain": [
       "<Figure size 576x432 with 1 Axes>"
      ]
     },
     "metadata": {},
     "output_type": "display_data"
    },
    {
     "name": "stderr",
     "output_type": "stream",
     "text": [
      "... storing 'binding' as categorical\n"
     ]
    },
    {
     "data": {
      "image/png": "[encoded data removed]",
      "text/plain": [
       "<Figure size 576x432 with 1 Axes>"
      ]
     },
     "metadata": {},
     "output_type": "display_data"
    }
   ],
   "source": [
    "for i in range(1, 3):\n",
    "    labels, _ = get_labels(f'donor_{i}')\n",
    "    adata = ad.AnnData(embedding_dict[f'donor_{i}_weighted'][0], obs={'binding': labels})\n",
    "    sc.pp.neighbors(adata)\n",
    "    sc.tl.umap(adata)\n",
    "    sc.pl.umap(adata, color='binding', palette=ANTIGEN_COLORS, title=f'donor {i}')"
   ]
  },
  {
   "cell_type": "markdown",
   "id": "0df33655",
   "metadata": {},
   "source": [
    "## Covid Dataset"
   ]
  },
  {
   "cell_type": "code",
   "execution_count": 15,
   "id": "cdb48458",
   "metadata": {},
   "outputs": [],
   "source": [
    "def get_labels_covid(return_df=False, col='binding_name'):\n",
    "    path_labels = '../data/tessa/covid/all_donor/'\n",
    "    df_atlas = pd.read_csv(path_labels+'tcrs_atlas.csv')\n",
    "    if not return_df:\n",
    "        return df_atlas[col].tolist()\n",
    "    df_atlas = df_atlas[['contig_id', col]]\n",
    "    \n",
    "    df_atlas = df_atlas.set_index('contig_id')\n",
    "    df_atlas.index.name = None\n",
    "    return df_atlas"
   ]
  },
  {
   "cell_type": "code",
   "execution_count": 16,
   "id": "39fd966e",
   "metadata": {},
   "outputs": [],
   "source": [
    "covid_weighted = [calculate_embedding('all_donor', do_atlas=True, do_weighting=True)]"
   ]
  },
  {
   "cell_type": "code",
   "execution_count": 17,
   "id": "1c05785a",
   "metadata": {},
   "outputs": [],
   "source": [
    "donor = 'all_donor'\n",
    "\n",
    "for col in ['T_cells', 'reactivity']:\n",
    "    labels_atlas = get_labels_covid(return_df=True, col=col)\n",
    "    labels_predicted = get_tessa_clusters(donor)\n",
    "\n",
    "    df_full = pd.concat([labels_atlas, labels_predicted], axis=1)\n",
    "    results = get_normalized_mutual_information(df_full[col], df_full['cluster'])\n",
    "    \n",
    "    if col == 'T_cells':    \n",
    "        col = 'TC'\n",
    "    else:\n",
    "        col = 'RT'\n",
    "        \n",
    "    if 'NMI-' + col not in res_cluster.keys():\n",
    "        res_cluster['NMI-'+col] = {}\n",
    "    res_cluster['NMI-'+col]['covid'] = results"
   ]
  },
  {
   "cell_type": "code",
   "execution_count": 18,
   "id": "b0660a43",
   "metadata": {},
   "outputs": [
    {
     "name": "stdout",
     "output_type": "stream",
     "text": [
      "Tessa clustering scores\n"
     ]
    },
    {
     "data": {
      "text/html": [
       "<div>\n",
       "<style scoped>\n",
       "    .dataframe tbody tr th:only-of-type {\n",
       "        vertical-align: middle;\n",
       "    }\n",
       "\n",
       "    .dataframe tbody tr th {\n",
       "        vertical-align: top;\n",
       "    }\n",
       "\n",
       "    .dataframe thead th {\n",
       "        text-align: right;\n",
       "    }\n",
       "</style>\n",
       "<table border=\"1\" class=\"dataframe\">\n",
       "  <thead>\n",
       "    <tr style=\"text-align: right;\">\n",
       "      <th></th>\n",
       "      <th>NMI</th>\n",
       "      <th>AWS</th>\n",
       "      <th>NMI-TC</th>\n",
       "      <th>NMI-RT</th>\n",
       "    </tr>\n",
       "  </thead>\n",
       "  <tbody>\n",
       "    <tr>\n",
       "      <th>donor_1</th>\n",
       "      <td>0.48</td>\n",
       "      <td>0.71</td>\n",
       "      <td>NaN</td>\n",
       "      <td>NaN</td>\n",
       "    </tr>\n",
       "    <tr>\n",
       "      <th>donor_2</th>\n",
       "      <td>0.41</td>\n",
       "      <td>0.76</td>\n",
       "      <td>NaN</td>\n",
       "      <td>NaN</td>\n",
       "    </tr>\n",
       "    <tr>\n",
       "      <th>covid</th>\n",
       "      <td>NaN</td>\n",
       "      <td>NaN</td>\n",
       "      <td>0.13</td>\n",
       "      <td>0.09</td>\n",
       "    </tr>\n",
       "  </tbody>\n",
       "</table>\n",
       "</div>"
      ],
      "text/plain": [
       "          NMI   AWS  NMI-TC  NMI-RT\n",
       "donor_1  0.48  0.71     NaN     NaN\n",
       "donor_2  0.41  0.76     NaN     NaN\n",
       "covid     NaN   NaN    0.13    0.09"
      ]
     },
     "execution_count": 18,
     "metadata": {},
     "output_type": "execute_result"
    }
   ],
   "source": [
    "pd.set_option(\"display.precision\", 2)\n",
    "df_cluster = pd.DataFrame(res_cluster)\n",
    "print('Tessa clustering scores')\n",
    "df_cluster"
   ]
  },
  {
   "cell_type": "code",
   "execution_count": 19,
   "id": "0f2af596",
   "metadata": {},
   "outputs": [],
   "source": [
    "from sklearn.metrics import silhouette_score\n",
    "donor = 'all_donor'\n",
    "\n",
    "labels_predicted = get_tessa_clusters(donor)\n",
    "\n",
    "results = silhouette_score(covid_weighted[0], labels_predicted['cluster'], metric='euclidean', random_state=29031995)\n",
    "\n",
    "if 'AWS' not in res_cluster.keys():\n",
    "    res_cluster['AWS'] = {}\n",
    "res_cluster['AWS']['covid'] = results"
   ]
  },
  {
   "cell_type": "code",
   "execution_count": 20,
   "id": "2548b9b2",
   "metadata": {},
   "outputs": [
    {
     "name": "stdout",
     "output_type": "stream",
     "text": [
      "Tessa clustering scores\n"
     ]
    },
    {
     "data": {
      "text/html": [
       "<div>\n",
       "<style scoped>\n",
       "    .dataframe tbody tr th:only-of-type {\n",
       "        vertical-align: middle;\n",
       "    }\n",
       "\n",
       "    .dataframe tbody tr th {\n",
       "        vertical-align: top;\n",
       "    }\n",
       "\n",
       "    .dataframe thead th {\n",
       "        text-align: right;\n",
       "    }\n",
       "</style>\n",
       "<table border=\"1\" class=\"dataframe\">\n",
       "  <thead>\n",
       "    <tr style=\"text-align: right;\">\n",
       "      <th></th>\n",
       "      <th>NMI</th>\n",
       "      <th>AWS</th>\n",
       "      <th>NMI-TC</th>\n",
       "      <th>NMI-RT</th>\n",
       "    </tr>\n",
       "  </thead>\n",
       "  <tbody>\n",
       "    <tr>\n",
       "      <th>donor_1</th>\n",
       "      <td>0.48</td>\n",
       "      <td>0.71</td>\n",
       "      <td>NaN</td>\n",
       "      <td>NaN</td>\n",
       "    </tr>\n",
       "    <tr>\n",
       "      <th>donor_2</th>\n",
       "      <td>0.41</td>\n",
       "      <td>0.76</td>\n",
       "      <td>NaN</td>\n",
       "      <td>NaN</td>\n",
       "    </tr>\n",
       "    <tr>\n",
       "      <th>covid</th>\n",
       "      <td>NaN</td>\n",
       "      <td>0.19</td>\n",
       "      <td>0.13</td>\n",
       "      <td>0.09</td>\n",
       "    </tr>\n",
       "  </tbody>\n",
       "</table>\n",
       "</div>"
      ],
      "text/plain": [
       "          NMI   AWS  NMI-TC  NMI-RT\n",
       "donor_1  0.48  0.71     NaN     NaN\n",
       "donor_2  0.41  0.76     NaN     NaN\n",
       "covid     NaN  0.19    0.13    0.09"
      ]
     },
     "execution_count": 20,
     "metadata": {},
     "output_type": "execute_result"
    }
   ],
   "source": [
    "pd.set_option(\"display.precision\", 2)\n",
    "df_cluster = pd.DataFrame(res_cluster)\n",
    "print('Tessa clustering scores')\n",
    "df_cluster"
   ]
  },
  {
   "cell_type": "code",
   "execution_count": 21,
   "id": "8c0036ec",
   "metadata": {
    "scrolled": true
   },
   "outputs": [
    {
     "data": {
      "text/html": [
       "<div>\n",
       "<style scoped>\n",
       "    .dataframe tbody tr th:only-of-type {\n",
       "        vertical-align: middle;\n",
       "    }\n",
       "\n",
       "    .dataframe tbody tr th {\n",
       "        vertical-align: top;\n",
       "    }\n",
       "\n",
       "    .dataframe thead th {\n",
       "        text-align: right;\n",
       "    }\n",
       "</style>\n",
       "<table border=\"1\" class=\"dataframe\">\n",
       "  <thead>\n",
       "    <tr style=\"text-align: right;\">\n",
       "      <th></th>\n",
       "      <th>T_cells</th>\n",
       "      <th>reactivity</th>\n",
       "      <th>cluster</th>\n",
       "    </tr>\n",
       "  </thead>\n",
       "  <tbody>\n",
       "    <tr>\n",
       "      <th>Sample_20063a009_01_AAACCTGGTAAACGCG</th>\n",
       "      <td>Cd4 (PBMC)</td>\n",
       "      <td>un-reactive</td>\n",
       "      <td>ASSFSGGPYEQY</td>\n",
       "    </tr>\n",
       "    <tr>\n",
       "      <th>Sample_20063a009_01_AAACCTGGTAACGCGA</th>\n",
       "      <td>Cd8 (PBMC)</td>\n",
       "      <td>un-reactive</td>\n",
       "      <td>ASSVDTYEQY</td>\n",
       "    </tr>\n",
       "    <tr>\n",
       "      <th>Sample_20063a009_01_AAACCTGGTAATAGCA</th>\n",
       "      <td>Cd4 (PBMC)</td>\n",
       "      <td>un-reactive</td>\n",
       "      <td>ASSVEGSYNEQF</td>\n",
       "    </tr>\n",
       "    <tr>\n",
       "      <th>Sample_20063a009_01_AAACCTGGTCAGAGGT</th>\n",
       "      <td>Cd8 (PBMC)</td>\n",
       "      <td>un-reactive</td>\n",
       "      <td>ASSESGQGNTEAF</td>\n",
       "    </tr>\n",
       "    <tr>\n",
       "      <th>Sample_20063a009_01_AAACCTGGTGTATGGG</th>\n",
       "      <td>Cd8 (PBMC)</td>\n",
       "      <td>un-reactive</td>\n",
       "      <td>ASDDRTNTGELF</td>\n",
       "    </tr>\n",
       "    <tr>\n",
       "      <th>...</th>\n",
       "      <td>...</td>\n",
       "      <td>...</td>\n",
       "      <td>...</td>\n",
       "    </tr>\n",
       "    <tr>\n",
       "      <th>Sample_20063a010_01_TTTGTCAGTCTAAACC</th>\n",
       "      <td>Cd4 (PBMC)</td>\n",
       "      <td>un-reactive</td>\n",
       "      <td>ASSGGRQETFYEQY</td>\n",
       "    </tr>\n",
       "    <tr>\n",
       "      <th>Sample_20063a010_01_TTTGTCAGTTGCGCAC</th>\n",
       "      <td>Cd4 (PBMC)</td>\n",
       "      <td>un-reactive</td>\n",
       "      <td>ASSGGGLGEETQY</td>\n",
       "    </tr>\n",
       "    <tr>\n",
       "      <th>Sample_20063a010_01_TTTGTCATCAAACCGT</th>\n",
       "      <td>Cd4 (PBMC)</td>\n",
       "      <td>un-reactive</td>\n",
       "      <td>ASSLSGTRTYEQY</td>\n",
       "    </tr>\n",
       "    <tr>\n",
       "      <th>Sample_20063a010_01_TTTGTCATCATGGTCA</th>\n",
       "      <td>Cd4 (PBMC)</td>\n",
       "      <td>un-reactive</td>\n",
       "      <td>ASSPRTVQETQY</td>\n",
       "    </tr>\n",
       "    <tr>\n",
       "      <th>Sample_20063a010_01_TTTGTCATCGCTTAGA</th>\n",
       "      <td>Cd4 (PBMC)</td>\n",
       "      <td>un-reactive</td>\n",
       "      <td>SARPGLAGNQETQY</td>\n",
       "    </tr>\n",
       "  </tbody>\n",
       "</table>\n",
       "<p>6713 rows × 3 columns</p>\n",
       "</div>"
      ],
      "text/plain": [
       "                                         T_cells   reactivity         cluster\n",
       "Sample_20063a009_01_AAACCTGGTAAACGCG  Cd4 (PBMC)  un-reactive    ASSFSGGPYEQY\n",
       "Sample_20063a009_01_AAACCTGGTAACGCGA  Cd8 (PBMC)  un-reactive      ASSVDTYEQY\n",
       "Sample_20063a009_01_AAACCTGGTAATAGCA  Cd4 (PBMC)  un-reactive    ASSVEGSYNEQF\n",
       "Sample_20063a009_01_AAACCTGGTCAGAGGT  Cd8 (PBMC)  un-reactive   ASSESGQGNTEAF\n",
       "Sample_20063a009_01_AAACCTGGTGTATGGG  Cd8 (PBMC)  un-reactive    ASDDRTNTGELF\n",
       "...                                          ...          ...             ...\n",
       "Sample_20063a010_01_TTTGTCAGTCTAAACC  Cd4 (PBMC)  un-reactive  ASSGGRQETFYEQY\n",
       "Sample_20063a010_01_TTTGTCAGTTGCGCAC  Cd4 (PBMC)  un-reactive   ASSGGGLGEETQY\n",
       "Sample_20063a010_01_TTTGTCATCAAACCGT  Cd4 (PBMC)  un-reactive   ASSLSGTRTYEQY\n",
       "Sample_20063a010_01_TTTGTCATCATGGTCA  Cd4 (PBMC)  un-reactive    ASSPRTVQETQY\n",
       "Sample_20063a010_01_TTTGTCATCGCTTAGA  Cd4 (PBMC)  un-reactive  SARPGLAGNQETQY\n",
       "\n",
       "[6713 rows x 3 columns]"
      ]
     },
     "execution_count": 21,
     "metadata": {},
     "output_type": "execute_result"
    }
   ],
   "source": [
    "labels_tc = get_labels_covid(col='T_cells', return_df=True)\n",
    "labels_rt = get_labels_covid(col='reactivity', return_df=True)\n",
    "labels_tessa = get_tessa_clusters('all_donor')\n",
    "df_full = pd.concat([labels_tc, labels_rt, labels_tessa], axis=1)\n",
    "df_full"
   ]
  },
  {
   "cell_type": "code",
   "execution_count": 22,
   "id": "8548afb2",
   "metadata": {
    "scrolled": true
   },
   "outputs": [],
   "source": [
    "labels_tc = get_labels_covid(col='T_cells', return_df=True)['T_cells']\n",
    "labels_rt = get_labels_covid(col='reactivity', return_df=True)['reactivity']\n",
    "labels_tessa = get_tessa_clusters('all_donor')['cluster']\n",
    "df_labels = pd.concat([labels_tc, labels_rt, labels_tessa], axis=1)\n",
    "\n",
    "idx = pd.read_csv('tmp/all_donor/atlas/tessa_tcr_embedding.csv')['contig_id']\n",
    "df_x = pd.DataFrame(data=covid_weighted[0], index=idx)\n",
    "\n",
    "adata = ad.AnnData(df_x)\n",
    "adata.obs['cell type'] = labels_tc\n",
    "adata.obs['reactivity'] = labels_rt\n",
    "adata.obs['tessa'] = labels_tessa"
   ]
  },
  {
   "cell_type": "code",
   "execution_count": 23,
   "id": "bfdae00c",
   "metadata": {},
   "outputs": [
    {
     "data": {
      "text/plain": [
       "array(['un-reactive', 'CD4 reactive', 'CD8 reactive'], dtype=object)"
      ]
     },
     "execution_count": 23,
     "metadata": {},
     "output_type": "execute_result"
    }
   ],
   "source": [
    "adata.obs['reactivity'].unique()"
   ]
  },
  {
   "cell_type": "code",
   "execution_count": 24,
   "id": "3684d4e0",
   "metadata": {},
   "outputs": [],
   "source": [
    "np.random.seed(42)\n",
    "reactive_states = ['CD4 reactive', 'CD8 reactive']\n",
    "adata_reactive = adata[adata.obs['reactivity'].isin(reactive_states)]\n",
    "adata_unreactive = adata[~adata.obs['reactivity'].isin(reactive_states)]\n",
    "p = len(adata_reactive)/len(adata_unreactive)\n",
    "downsample_mask =  np.random.choice([True, False], size=len(adata_unreactive), replace=True, p=[p, 1-p])\n",
    "adata_unreactive = adata_unreactive[downsample_mask]\n",
    "adata_subsample = adata_reactive.concatenate([adata_unreactive])\n",
    "adata = adata_subsample"
   ]
  },
  {
   "cell_type": "code",
   "execution_count": 25,
   "id": "7b34bb58",
   "metadata": {
    "scrolled": true
   },
   "outputs": [
    {
     "name": "stderr",
     "output_type": "stream",
     "text": [
      "... storing 'cell type' as categorical\n",
      "... storing 'reactivity' as categorical\n",
      "... storing 'tessa' as categorical\n"
     ]
    },
    {
     "data": {
      "image/png": "[encoded data removed]",
      "text/plain": [
       "<Figure size 576x432 with 1 Axes>"
      ]
     },
     "metadata": {},
     "output_type": "display_data"
    },
    {
     "data": {
      "image/png": "[encoded data removed]",
      "text/plain": [
       "<Figure size 576x432 with 1 Axes>"
      ]
     },
     "metadata": {},
     "output_type": "display_data"
    }
   ],
   "source": [
    "\n",
    "sc.pp.neighbors(adata)\n",
    "sc.tl.umap(adata)\n",
    "sc.pl.umap(adata, color='cell type', title=f'Covid - Cell Type')\n",
    "sc.pl.umap(adata, color='reactivity', title=f'Covid - Reactivity')"
   ]
  }
 ],
 "metadata": {
  "kernelspec": {
   "display_name": "Python [conda env:mvTCR]",
   "language": "python",
   "name": "conda-env-mvTCR-py"
  },
  "language_info": {
   "codemirror_mode": {
    "name": "ipython",
    "version": 3
   },
   "file_extension": ".py",
   "mimetype": "text/x-python",
   "name": "python",
   "nbconvert_exporter": "python",
   "pygments_lexer": "ipython3",
   "version": "3.8.8"
  }
 },
 "nbformat": 4,
 "nbformat_minor": 5
}
