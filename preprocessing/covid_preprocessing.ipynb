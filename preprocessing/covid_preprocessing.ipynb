{
 "cells": [
  {
   "cell_type": "markdown",
   "id": "b0054e0d",
   "metadata": {},
   "source": [
    "# Covid Data"
   ]
  },
  {
   "cell_type": "markdown",
   "id": "80cc6e99",
   "metadata": {},
   "source": [
    "Dataset containing SARS-CoV-2 T cells described in https://www.medrxiv.org/content/10.1101/2020.12.07.20245274v1\n",
    "\n",
    "Later available under https://www.ncbi.nlm.nih.gov/geo/query/acc.cgi?acc=GSE171037"
   ]
  },
  {
   "cell_type": "code",
   "execution_count": 1,
   "id": "106b70f6",
   "metadata": {},
   "outputs": [
    {
     "name": "stderr",
     "output_type": "stream",
     "text": [
      "/home/icb/felix.drost/miniconda3/envs/mvTCR/lib/python3.8/site-packages/tqdm/auto.py:22: TqdmWarning: IProgress not found. Please update jupyter and ipywidgets. See https://ipywidgets.readthedocs.io/en/stable/user_install.html\n",
      "  from .autonotebook import tqdm as notebook_tqdm\n"
     ]
    }
   ],
   "source": [
    "import pandas as pd\n",
    "import scanpy as sc\n",
    "import scipy\n",
    "import anndata\n",
    "import scirpy as ir\n",
    "import numpy as np\n",
    "import matplotlib.pyplot as pl\n",
    "from matplotlib import rcParams\n",
    "import seaborn as sb\n",
    "sb.set_style('white')"
   ]
  },
  {
   "cell_type": "markdown",
   "id": "86d7f710",
   "metadata": {},
   "source": [
    "# Single cell data preprocessing"
   ]
  },
  {
   "cell_type": "markdown",
   "id": "11bb2d35",
   "metadata": {},
   "source": [
    "Due to limited amount of cells, the data is not filtered in a similar way as the 10x dataset by expression counts, mitochondrial counts and gene counts.\n",
    "\n",
    "Only cells are deleted, that have a non-functional / non-unique receptor, since our models can not deal with that."
   ]
  },
  {
   "cell_type": "code",
   "execution_count": 2,
   "id": "59937ce8",
   "metadata": {},
   "outputs": [],
   "source": [
    "path_base = '../mvTCR/data/Covid/'\n",
    "path_raw = path_base + 'Covid19_TAs_PBMCs.h5ad'\n",
    "path_tcr_split = path_base + '03_covidcovidtrain_test_split.h5ad'\n",
    "path_highlyvar = path_base + '04_covid_highly_var_5000.h5ad'"
   ]
  },
  {
   "cell_type": "markdown",
   "id": "768497e1",
   "metadata": {},
   "source": [
    "## Filter cells with productive single IR "
   ]
  },
  {
   "cell_type": "markdown",
   "id": "e112cbc7",
   "metadata": {},
   "source": [
    "Filter cells where there is more or less than one alpha and beta chain present"
   ]
  },
  {
   "cell_type": "code",
   "execution_count": 3,
   "id": "fe63689e",
   "metadata": {},
   "outputs": [],
   "source": [
    "adata = sc.read_h5ad(path_raw)"
   ]
  },
  {
   "cell_type": "code",
   "execution_count": 4,
   "id": "b5bd368b",
   "metadata": {
    "scrolled": true
   },
   "outputs": [
    {
     "name": "stdout",
     "output_type": "stream",
     "text": [
      "Number of cells: 12503\n",
      "Number of cells with IR: 11277\n"
     ]
    }
   ],
   "source": [
    "print(f'Number of cells: {adata.n_obs}')\n",
    "adata = adata[adata.obs['has_tcr']=='True']\n",
    "print(f'Number of cells with IR: {adata.n_obs}')"
   ]
  },
  {
   "cell_type": "code",
   "execution_count": 5,
   "id": "ffc3dc64",
   "metadata": {},
   "outputs": [
    {
     "name": "stdout",
     "output_type": "stream",
     "text": [
      "Number of cells: 11277\n",
      "Number of cells without >2 chains: 11147\n",
      "Number of cells with =1 per chain: 9853\n"
     ]
    }
   ],
   "source": [
    "print(f'Number of cells: {adata.n_obs}')\n",
    "adata = adata[adata.obs['multi_chain']=='False']\n",
    "\n",
    "print(f'Number of cells without >2 chains: {adata.n_obs}')\n",
    "\n",
    "adata = adata[adata.obs['TRA_2_cdr3']=='None']\n",
    "adata = adata[adata.obs['TRB_2_cdr3']=='None']\n",
    "\n",
    "print(f'Number of cells with =1 per chain: {adata.n_obs}')"
   ]
  },
  {
   "cell_type": "markdown",
   "id": "b883d644",
   "metadata": {},
   "source": [
    "## Filter unpaired Sequences"
   ]
  },
  {
   "cell_type": "code",
   "execution_count": 6,
   "id": "7ffaabb6",
   "metadata": {},
   "outputs": [
    {
     "name": "stdout",
     "output_type": "stream",
     "text": [
      "Number of cells: 9853\n",
      "Number of cells with beta chain: 9521\n"
     ]
    }
   ],
   "source": [
    "print(f'Number of cells: {adata.n_obs}')\n",
    "adata = adata[adata.obs['TRB_1_cdr3'] != 'None']\n",
    "print(f'Number of cells with beta chain: {adata.n_obs}')"
   ]
  },
  {
   "cell_type": "code",
   "execution_count": 7,
   "id": "0dd925f4",
   "metadata": {
    "scrolled": true
   },
   "outputs": [
    {
     "name": "stdout",
     "output_type": "stream",
     "text": [
      "Number of cells: 9521\n",
      "Number of cells with alpha chain: 6713\n"
     ]
    }
   ],
   "source": [
    "print(f'Number of cells: {adata.n_obs}')\n",
    "adata = adata[adata.obs['TRA_1_cdr3'] != 'None']\n",
    "print(f'Number of cells with alpha chain: {adata.n_obs}')"
   ]
  },
  {
   "cell_type": "markdown",
   "id": "6cd60e82",
   "metadata": {},
   "source": [
    "Sanity check: only a single CDR3alpha and CDR3beta chain is present"
   ]
  },
  {
   "cell_type": "code",
   "execution_count": 8,
   "id": "1441edb7",
   "metadata": {},
   "outputs": [],
   "source": [
    "def check_invalids(sequence):\n",
    "    allowed_letters = 'GALMFWKQESPVICYHRNDT'\n",
    "    for letter in sequence:\n",
    "        if letter not in allowed_letters:\n",
    "            return False\n",
    "    return True\n",
    "\n",
    "for seq_alpha in adata.obs['TRA_1_cdr3']:\n",
    "    if not check_invalids(seq_alpha):\n",
    "        print(seq_alpha)\n",
    "for seq_beta in adata.obs['TRB_1_cdr3']:\n",
    "    if not check_invalids(seq_beta):\n",
    "        print(seq_beta)"
   ]
  },
  {
   "cell_type": "markdown",
   "id": "2f13409a",
   "metadata": {},
   "source": [
    "## Clonotype Annotation"
   ]
  },
  {
   "cell_type": "markdown",
   "id": "2b815cbb",
   "metadata": {},
   "source": [
    "Give numerica label to each clonotype"
   ]
  },
  {
   "cell_type": "code",
   "execution_count": 9,
   "id": "13f0ebb2",
   "metadata": {},
   "outputs": [
    {
     "name": "stderr",
     "output_type": "stream",
     "text": [
      "Trying to set attribute `.obs` of view, copying.\n"
     ]
    },
    {
     "name": "stdout",
     "output_type": "stream",
     "text": [
      "4102\n"
     ]
    },
    {
     "data": {
      "text/plain": [
       "6       531\n",
       "12      182\n",
       "9       158\n",
       "46      114\n",
       "31      106\n",
       "       ... \n",
       "2824      1\n",
       "777       1\n",
       "2828      1\n",
       "781       1\n",
       "2047      1\n",
       "Name: clonotype, Length: 4102, dtype: int64"
      ]
     },
     "execution_count": 9,
     "metadata": {},
     "output_type": "execute_result"
    }
   ],
   "source": [
    "adata.obs['TRA+TRB'] = adata.obs['TRA_1_cdr3'].astype(str) + '+' + adata.obs['TRB_1_cdr3'].astype(str)\n",
    "clono_dict = {clone: idx for idx, clone in enumerate(adata.obs['TRA+TRB'].unique())}\n",
    "adata.obs['clonotype'] = adata.obs['TRA+TRB'].map(clono_dict)\n",
    "print(len(adata.obs['clonotype'].unique()))\n",
    "adata.obs['clonotype'].value_counts()"
   ]
  },
  {
   "cell_type": "markdown",
   "id": "4b846d81",
   "metadata": {},
   "source": [
    "## Embed TR"
   ]
  },
  {
   "cell_type": "markdown",
   "id": "ed097a75",
   "metadata": {},
   "source": [
    "Append both chains, add start ('<'), stop ('>') and seperator ('+') token. For training purpose IR data might be needed as one hot vector."
   ]
  },
  {
   "cell_type": "code",
   "execution_count": 10,
   "id": "938dd4e8",
   "metadata": {},
   "outputs": [],
   "source": [
    "import sys\n",
    "sys.path.append('../mvTCR/')\n",
    "import tcr_embedding as tcr\n",
    "import tcr_embedding.utils_preprocessing as utils"
   ]
  },
  {
   "cell_type": "code",
   "execution_count": 11,
   "id": "e679b824",
   "metadata": {
    "scrolled": true
   },
   "outputs": [
    {
     "data": {
      "text/plain": [
       "39"
      ]
     },
     "execution_count": 11,
     "metadata": {},
     "output_type": "execute_result"
    }
   ],
   "source": [
    "adata.obs['TRA+TRB'] = adata.obs['TRA_1_cdr3'].astype(str) + '+' + adata.obs['TRB_1_cdr3'].astype(str)\n",
    "pad = adata.obs['TRA+TRB'].str.len().max()\n",
    "pad = int(pad)\n",
    "pad"
   ]
  },
  {
   "cell_type": "code",
   "execution_count": 12,
   "id": "9840429d",
   "metadata": {},
   "outputs": [],
   "source": [
    "aa_to_id = {'_': 0, 'A': 1, 'C': 2, 'D': 3, 'E': 4, 'F': 5, 'G': 6, 'H': 7, 'I': 8, 'K': 9, 'L': 10, 'M': 11, 'N': 12, 'P': 13,\n",
    "            'Q': 14, 'R': 15, 'S': 16, 'T': 17, 'V': 18, 'W': 19, 'Y': 20, '+': 21, '<': 22, '>': 23}\n",
    "utils.aa_encoding(adata, read_col='TRA+TRB', ohe_col='one_hot', label_col='tcr_seq', length_col='seq_len', pad=pad, aa_to_id=aa_to_id, start_end_symbol=True)\n"
   ]
  },
  {
   "cell_type": "code",
   "execution_count": 13,
   "id": "8f58fb93",
   "metadata": {
    "scrolled": true
   },
   "outputs": [
    {
     "name": "stdout",
     "output_type": "stream",
     "text": [
      "(6713, 41)\n",
      "(6713, 41, 24)\n",
      "{'_': 0, 'A': 1, 'C': 2, 'D': 3, 'E': 4, 'F': 5, 'G': 6, 'H': 7, 'I': 8, 'K': 9, 'L': 10, 'M': 11, 'N': 12, 'P': 13, 'Q': 14, 'R': 15, 'S': 16, 'T': 17, 'V': 18, 'W': 19, 'Y': 20, '+': 21, '<': 22, '>': 23}\n"
     ]
    }
   ],
   "source": [
    "print(adata.obsm['tcr_seq'].shape)\n",
    "print(adata.obsm['one_hot'].shape)\n",
    "print(adata.uns['aa_to_id'])"
   ]
  },
  {
   "cell_type": "code",
   "execution_count": 14,
   "id": "722fa1b7",
   "metadata": {},
   "outputs": [],
   "source": [
    "max_length_alpha = adata.obs['TRA_1_cdr3'].str.len().max()\n",
    "max_length_beta = adata.obs['TRB_1_cdr3'].str.len().max()\n",
    "max_length = max(max_length_alpha, max_length_beta)"
   ]
  },
  {
   "cell_type": "code",
   "execution_count": 15,
   "id": "9dadbe5b",
   "metadata": {},
   "outputs": [],
   "source": [
    "aa_to_id = adata.uns['aa_to_id']\n",
    "utils.aa_encoding(adata, read_col='TRA_1_cdr3', label_col='alpha_seq', length_col='alpha_len', pad=max_length, aa_to_id=aa_to_id, start_end_symbol=False)\n",
    "utils.aa_encoding(adata, read_col='TRB_1_cdr3', label_col='beta_seq', length_col='beta_len', pad=max_length, aa_to_id=aa_to_id, start_end_symbol=False)"
   ]
  },
  {
   "cell_type": "code",
   "execution_count": 16,
   "id": "604ad474",
   "metadata": {},
   "outputs": [
    {
     "name": "stdout",
     "output_type": "stream",
     "text": [
      "20\n",
      "23\n"
     ]
    }
   ],
   "source": [
    "print(max_length_alpha)\n",
    "print(max_length_beta)"
   ]
  },
  {
   "cell_type": "markdown",
   "id": "d592460f",
   "metadata": {},
   "source": [
    "## Train-Val-Test Split"
   ]
  },
  {
   "cell_type": "markdown",
   "id": "cb4c310f",
   "metadata": {},
   "source": [
    "Datasets are split s.t. all cells from the same clonotype (here: identical alpha and beta chain) are assigned to the same split. The two samples and the condiation (stimulated vs unstimulated) are distributed evenly over all three sets."
   ]
  },
  {
   "cell_type": "code",
   "execution_count": 17,
   "id": "7efc1ddf",
   "metadata": {},
   "outputs": [
    {
     "data": {
      "text/plain": [
       "Sample_20063a009_01_AGCCTAAGTCAGGACA    Sample_20063a009_01_unstimulated\n",
       "Sample_20063a010_01_CACACTCTCAGGCGAA      Sample_20063a010_01_stimulated\n",
       "Sample_20063a010_01_GTTCGGGTCCGCGCAA      Sample_20063a010_01_stimulated\n",
       "Sample_20063a010_01_AGTCTTTGTAAGAGAG      Sample_20063a010_01_stimulated\n",
       "Sample_20063a010_01_CAAGATCGTACTCGCG      Sample_20063a010_01_stimulated\n",
       "Sample_20063a009_01_CCAATCCCATCGGAAG    Sample_20063a009_01_unstimulated\n",
       "Sample_20063a009_01_TTATGCTAGTACGCGA    Sample_20063a009_01_unstimulated\n",
       "Sample_20063a009_01_ATTGGACAGTACGTTC    Sample_20063a009_01_unstimulated\n",
       "Sample_20063a010_01_CACAAACGTTTGTGTG      Sample_20063a010_01_stimulated\n",
       "Sample_20063a009_01_CGATGGCGTGCCTTGG    Sample_20063a009_01_unstimulated\n",
       "Name: identifier+condition, dtype: object"
      ]
     },
     "execution_count": 17,
     "metadata": {},
     "output_type": "execute_result"
    }
   ],
   "source": [
    "adata.obs['identifier+condition'] = adata.obs['identifier'].astype(str) + '_' + adata.obs['condition'].astype(str)\n",
    "adata.obs['identifier+condition'].sample(10)"
   ]
  },
  {
   "cell_type": "code",
   "execution_count": 18,
   "id": "ece0b6b7",
   "metadata": {},
   "outputs": [
    {
     "name": "stderr",
     "output_type": "stream",
     "text": [
      "100%|████████████████████████████████████████████████████████████████████| 2/2 [00:00<00:00, 28.05it/s]\n",
      "100%|████████████████████████████████████████████████████████████████████| 2/2 [00:00<00:00, 31.24it/s]\n"
     ]
    }
   ],
   "source": [
    "random_seed = 15\n",
    "# Create Train-Val and Test set\n",
    "train_val, test = utils.stratified_group_shuffle_split(adata.obs, stratify_col='identifier+condition', group_col='clonotype', val_split=0.15, random_seed=random_seed)\n",
    "# Split Train-Val into Train and Val set\n",
    "train, val = utils.stratified_group_shuffle_split(train_val, stratify_col='identifier+condition', group_col='clonotype', val_split=0.15, random_seed=random_seed)"
   ]
  },
  {
   "cell_type": "code",
   "execution_count": 19,
   "id": "ac0ae698",
   "metadata": {},
   "outputs": [
    {
     "name": "stdout",
     "output_type": "stream",
     "text": [
      "Train Samples:  5343\n",
      "Train Ratio:  0.7959183673469388\n",
      "Val Samples:  680\n",
      "Val Ratio:  0.10129599284969462\n",
      "Test Samples:  690\n",
      "Test Ratio:  0.10278563980336661\n"
     ]
    }
   ],
   "source": [
    "print('Train Samples: ', len(train))\n",
    "print('Train Ratio: ', len(train) / len(adata.obs))\n",
    "print('Val Samples: ', len(val))\n",
    "print('Val Ratio: ', len(val) / len(adata.obs))\n",
    "print('Test Samples: ', len(test))\n",
    "print('Test Ratio: ', len(test) / len(adata.obs))"
   ]
  },
  {
   "cell_type": "markdown",
   "id": "e5cda4e4",
   "metadata": {},
   "source": [
    "### Visualize Distribution"
   ]
  },
  {
   "cell_type": "code",
   "execution_count": 20,
   "id": "c9b1d1c3",
   "metadata": {},
   "outputs": [
    {
     "data": {
      "image/png": "[encoded data removed]",
      "text/plain": [
       "<Figure size 1080x360 with 1 Axes>"
      ]
     },
     "metadata": {
      "needs_background": "light"
     },
     "output_type": "display_data"
    }
   ],
   "source": [
    "pl.figure(figsize=(15,5))\n",
    "pl.hist([train['identifier'], val['identifier'], test['identifier']], density=True, bins=len(train['identifier'].unique()), label=['train', 'val', 'test'])\n",
    "pl.xticks(rotation='vertical')\n",
    "pl.legend(loc='upper right')\n",
    "pl.show()"
   ]
  },
  {
   "cell_type": "code",
   "execution_count": 21,
   "id": "5f7788e9",
   "metadata": {},
   "outputs": [
    {
     "data": {
      "image/png": "[encoded data removed]",
      "text/plain": [
       "<Figure size 1080x360 with 1 Axes>"
      ]
     },
     "metadata": {
      "needs_background": "light"
     },
     "output_type": "display_data"
    }
   ],
   "source": [
    "pl.figure(figsize=(15,5))\n",
    "pl.hist([train['condition'], val['condition'], test['condition']], density=True, bins=len(train['condition'].unique()), label=['train', 'val', 'test'])\n",
    "pl.xticks(rotation='vertical')\n",
    "pl.legend(loc='upper right')\n",
    "pl.show()"
   ]
  },
  {
   "cell_type": "code",
   "execution_count": 22,
   "id": "6e492747",
   "metadata": {},
   "outputs": [
    {
     "data": {
      "text/plain": [
       "train    5343\n",
       "test      690\n",
       "val       680\n",
       "Name: set, dtype: int64"
      ]
     },
     "execution_count": 22,
     "metadata": {},
     "output_type": "execute_result"
    }
   ],
   "source": [
    "adata.obs.loc[train.index, 'set'] = 'train'\n",
    "adata.obs.loc[val.index, 'set'] = 'val'\n",
    "adata.obs.loc[test.index, 'set'] = 'test'\n",
    "adata.obs['set'].value_counts()"
   ]
  },
  {
   "cell_type": "code",
   "execution_count": 23,
   "id": "3aad5f3d",
   "metadata": {
    "scrolled": true
   },
   "outputs": [
    {
     "name": "stderr",
     "output_type": "stream",
     "text": [
      "... storing 'TRA+TRB' as categorical\n",
      "... storing 'identifier+condition' as categorical\n",
      "... storing 'set' as categorical\n"
     ]
    }
   ],
   "source": [
    "adata.write_h5ad(path_tcr_split, compression='gzip')"
   ]
  },
  {
   "cell_type": "markdown",
   "id": "7bd0e5f0",
   "metadata": {},
   "source": [
    "## Highly Variable Genes"
   ]
  },
  {
   "cell_type": "markdown",
   "id": "f376cc04",
   "metadata": {},
   "source": [
    "Reduce the expression data to the 5000 most variable genes."
   ]
  },
  {
   "cell_type": "code",
   "execution_count": 24,
   "id": "b30bb1fe",
   "metadata": {},
   "outputs": [],
   "source": [
    "adata = sc.read_h5ad(path_tcr_split)"
   ]
  },
  {
   "cell_type": "code",
   "execution_count": 25,
   "id": "6af6825a",
   "metadata": {
    "scrolled": true
   },
   "outputs": [
    {
     "name": "stdout",
     "output_type": "stream",
     "text": [
      "Shape before:  (6713, 16598)\n",
      "Shape after:  (6713, 5000)\n"
     ]
    },
    {
     "name": "stderr",
     "output_type": "stream",
     "text": [
      "/home/icb/felix.drost/miniconda3/envs/mvTCR/lib/python3.8/site-packages/pandas/core/indexing.py:1637: SettingWithCopyWarning: \n",
      "A value is trying to be set on a copy of a slice from a DataFrame\n",
      "\n",
      "See the caveats in the documentation: https://pandas.pydata.org/pandas-docs/stable/user_guide/indexing.html#returning-a-view-versus-a-copy\n",
      "  self._setitem_single_block(indexer, value, name)\n"
     ]
    }
   ],
   "source": [
    "sc.pp.highly_variable_genes(adata, n_top_genes=5000, batch_key='identifier')\n",
    "print('Shape before: ', adata.shape)\n",
    "adata = adata[:, adata.var['highly_variable']]\n",
    "print('Shape after: ', adata.shape)"
   ]
  },
  {
   "cell_type": "code",
   "execution_count": 26,
   "id": "0ea434d2",
   "metadata": {},
   "outputs": [],
   "source": [
    "sc.write(adata=adata, filename=path_highlyvar)"
   ]
  },
  {
   "cell_type": "code",
   "execution_count": 27,
   "id": "09756e14",
   "metadata": {},
   "outputs": [],
   "source": [
    "adata = sc.read(path_highlyvar)"
   ]
  },
  {
   "cell_type": "code",
   "execution_count": 28,
   "id": "b4bdbf13",
   "metadata": {},
   "outputs": [
    {
     "data": {
      "text/plain": [
       "['batch',\n",
       " 'grouping',\n",
       " 'name',\n",
       " 'identifier',\n",
       " 'n_counts',\n",
       " 'n_genes',\n",
       " 'percent.mito',\n",
       " 'QC_group',\n",
       " 'size_factors',\n",
       " 'S_score',\n",
       " 'G2M_score',\n",
       " 'phase',\n",
       " 'louvain',\n",
       " 'cell_type',\n",
       " 'dcluster',\n",
       " 'multi_chain',\n",
       " 'TRA_1_cdr3',\n",
       " 'TRA_2_cdr3',\n",
       " 'TRB_1_cdr3',\n",
       " 'TRB_2_cdr3',\n",
       " 'TRA_1_junction_ins',\n",
       " 'TRA_2_junction_ins',\n",
       " 'TRB_1_junction_ins',\n",
       " 'TRB_2_junction_ins',\n",
       " 'TRA_1_expr',\n",
       " 'TRA_2_expr',\n",
       " 'TRB_1_expr',\n",
       " 'TRB_2_expr',\n",
       " 'TRA_1_v_gene',\n",
       " 'TRA_2_v_gene',\n",
       " 'TRB_1_v_gene',\n",
       " 'TRB_2_v_gene',\n",
       " 'TRA_1_d_gene',\n",
       " 'TRA_2_d_gene',\n",
       " 'TRB_1_d_gene',\n",
       " 'TRB_2_d_gene',\n",
       " 'TRA_1_j_gene',\n",
       " 'TRA_2_j_gene',\n",
       " 'TRB_1_j_gene',\n",
       " 'TRB_2_j_gene',\n",
       " 'TRA_1_c_gene',\n",
       " 'TRA_2_c_gene',\n",
       " 'TRB_1_c_gene',\n",
       " 'TRB_2_c_gene',\n",
       " 'TRA_1_cdr3_nt',\n",
       " 'TRA_2_cdr3_nt',\n",
       " 'TRB_1_cdr3_nt',\n",
       " 'TRB_2_cdr3_nt',\n",
       " 'has_tcr',\n",
       " 'sample_rna',\n",
       " 'sample_tcr',\n",
       " 'clonotype_cellranger',\n",
       " 'concatenation',\n",
       " 'patient',\n",
       " 'condition',\n",
       " 'mt_frac',\n",
       " 'CD3_all_genes',\n",
       " 'leiden',\n",
       " 'chain_pairing',\n",
       " 'leiden_corrected',\n",
       " 'CD8_all_genes',\n",
       " 'CD4_states',\n",
       " 'CD8_states',\n",
       " 'tcr_signalling_score',\n",
       " 'ifn response_score',\n",
       " 'proliferation_score',\n",
       " 'cd8 cytotoxic_score',\n",
       " 'cd8 cytokine_score',\n",
       " 'ifng_pos_cluster',\n",
       " 'clonotype',\n",
       " 'clonotype_size',\n",
       " 'ct_cluster_aa_alignment',\n",
       " 'ct_cluster_aa_alignment_size',\n",
       " 'ct_cluster_aa_alignment_same_v',\n",
       " 'ct_cluster_aa_alignment_same_v_size',\n",
       " 'clonal_expansion',\n",
       " 'bc',\n",
       " 'r2_tcr',\n",
       " 'clonotype_all_chains',\n",
       " 'responsive',\n",
       " 'CD4_responsive',\n",
       " 'CD8_responsive',\n",
       " 'data_set',\n",
       " 'louvain_2',\n",
       " 'louvain_3',\n",
       " 'reactive',\n",
       " 'CD4 reactive_score_CD4',\n",
       " 'CD8 reactive_score_CD8',\n",
       " 'T_cells',\n",
       " 'leiden_Cd4',\n",
       " 'leiden_Cd8',\n",
       " 'reactive_condition',\n",
       " 'IFN response score',\n",
       " 'Proliferation score',\n",
       " 'Cytotoxic score',\n",
       " 'Cytokine score',\n",
       " 'Cd4 reactive score (DF)',\n",
       " 'Cd4 reactive score (sc)',\n",
       " 'Cd4 reactive score (MA)',\n",
       " 'Cd8 reactive score (MA)',\n",
       " 'reactive_combined',\n",
       " 'Cd8 reactive score (DF)',\n",
       " 'highest_score',\n",
       " '1) reactive score CD4 (updown)',\n",
       " '3) stim reactive score CD4 (updown)',\n",
       " '5) stim score CD4 (updown)',\n",
       " '2) reactive score CD8 (updown)',\n",
       " '4) stim reactive score CD8 (updown)',\n",
       " '6) stim score CD8 (updown)',\n",
       " 'TRA+TRB',\n",
       " 'seq_len',\n",
       " 'alpha_len',\n",
       " 'beta_len',\n",
       " 'identifier+condition',\n",
       " 'set']"
      ]
     },
     "execution_count": 28,
     "metadata": {},
     "output_type": "execute_result"
    }
   ],
   "source": [
    "adata.obs.columns.tolist()"
   ]
  },
  {
   "cell_type": "code",
   "execution_count": 29,
   "id": "15f46680",
   "metadata": {},
   "outputs": [
    {
     "data": {
      "text/plain": [
       "Sample_20063a009_01_AAACCTGGTAAACGCG    unstimulated\n",
       "Sample_20063a009_01_AAACCTGGTAACGCGA    unstimulated\n",
       "Sample_20063a009_01_AAACCTGGTAATAGCA    unstimulated\n",
       "Sample_20063a009_01_AAACCTGGTCAGAGGT    unstimulated\n",
       "Sample_20063a009_01_AAACCTGGTGTATGGG    unstimulated\n",
       "                                            ...     \n",
       "Sample_20063a010_01_TTTGTCAGTCTAAACC      stimulated\n",
       "Sample_20063a010_01_TTTGTCAGTTGCGCAC      stimulated\n",
       "Sample_20063a010_01_TTTGTCATCAAACCGT      stimulated\n",
       "Sample_20063a010_01_TTTGTCATCATGGTCA      stimulated\n",
       "Sample_20063a010_01_TTTGTCATCGCTTAGA      stimulated\n",
       "Name: condition, Length: 6713, dtype: category\n",
       "Categories (2, object): ['stimulated', 'unstimulated']"
      ]
     },
     "execution_count": 29,
     "metadata": {},
     "output_type": "execute_result"
    }
   ],
   "source": [
    "adata.obs['condition']"
   ]
  },
  {
   "cell_type": "code",
   "execution_count": null,
   "id": "486a4b75",
   "metadata": {},
   "outputs": [],
   "source": []
  }
 ],
 "metadata": {
  "kernelspec": {
   "display_name": "Python [conda env:mvTCR] *",
   "language": "python",
   "name": "conda-env-mvTCR-py"
  },
  "language_info": {
   "codemirror_mode": {
    "name": "ipython",
    "version": 3
   },
   "file_extension": ".py",
   "mimetype": "text/x-python",
   "name": "python",
   "nbconvert_exporter": "python",
   "pygments_lexer": "ipython3",
   "version": "3.8.8"
  }
 },
 "nbformat": 4,
 "nbformat_minor": 5
}
