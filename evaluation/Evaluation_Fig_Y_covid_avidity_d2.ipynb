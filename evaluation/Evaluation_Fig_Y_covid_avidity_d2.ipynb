{
 "cells": [
  {
   "cell_type": "markdown",
   "id": "a8003d81",
   "metadata": {},
   "source": [
    "# Evaluation of Figure 2\n",
    "\n",
    "In this notebook, the data for Figure 2 is prepared. Note, that due to known issues in the umap-learn package, the plots are not 100% reproducable over all machines. However the overall structure will be preserved."
   ]
  },
  {
   "cell_type": "code",
   "execution_count": 1,
   "id": "e4d27536",
   "metadata": {},
   "outputs": [],
   "source": [
    "import pandas as pd\n",
    "import numpy as np\n",
    "import seaborn as sb\n",
    "import scanpy as sc\n",
    "import anndata"
   ]
  },
  {
   "cell_type": "code",
   "execution_count": 2,
   "id": "7f08c64b",
   "metadata": {},
   "outputs": [],
   "source": [
    "import sys\n",
    "sys.path.append('../..')\n",
    "import tcr_embedding.utils_training as utils\n",
    "import config.constants_10x as const"
   ]
  },
  {
   "cell_type": "code",
   "execution_count": 3,
   "id": "768fdcc4",
   "metadata": {},
   "outputs": [],
   "source": [
    "def load_model(adata, model, donor):\n",
    "    path_model = f'saved_models/journal/10x/full/donor_{donor}/{model}_'\n",
    "    path_model += f'donor_{donor}_full.pt'\n",
    "    model = utils.load_model(adata, path_model)\n",
    "    adata.obs['set'] = 'train'\n",
    "    return model\n",
    "    "
   ]
  },
  {
   "cell_type": "code",
   "execution_count": 4,
   "id": "bffa9119",
   "metadata": {},
   "outputs": [],
   "source": [
    "def load_10x_data(donor):\n",
    "    adata = utils.load_data('10x')\n",
    "    adata = adata[adata.obs['donor'] == f'donor_{donor}']\n",
    "    adata = adata[adata.obs['binding_name'].isin(const.donor_2_high_count_antigens)]\n",
    "    return adata"
   ]
  },
  {
   "cell_type": "markdown",
   "id": "cefffd11",
   "metadata": {},
   "source": [
    "## Loading"
   ]
  },
  {
   "cell_type": "code",
   "execution_count": 5,
   "id": "cd7190d7",
   "metadata": {
    "scrolled": true
   },
   "outputs": [
    {
     "name": "stderr",
     "output_type": "stream",
     "text": [
      "Trying to set attribute `.obs` of view, copying.\n"
     ]
    }
   ],
   "source": [
    "donor = 2\n",
    "\n",
    "data = load_10x_data(donor)\n",
    "models = {model_name: load_model(data, model_name, donor) for model_name in ['moe', 'rna', 'tcr']}"
   ]
  },
  {
   "cell_type": "markdown",
   "id": "6b9e4b27",
   "metadata": {},
   "source": [
    "## Adding binding list"
   ]
  },
  {
   "cell_type": "code",
   "execution_count": 34,
   "id": "71b197c4",
   "metadata": {},
   "outputs": [
    {
     "data": {
      "text/html": [
       "<div>\n",
       "<style scoped>\n",
       "    .dataframe tbody tr th:only-of-type {\n",
       "        vertical-align: middle;\n",
       "    }\n",
       "\n",
       "    .dataframe tbody tr th {\n",
       "        vertical-align: top;\n",
       "    }\n",
       "\n",
       "    .dataframe thead th {\n",
       "        text-align: right;\n",
       "    }\n",
       "</style>\n",
       "<table border=\"1\" class=\"dataframe\">\n",
       "  <thead>\n",
       "    <tr style=\"text-align: right;\">\n",
       "      <th></th>\n",
       "      <th>A0201_GILGFVFTL_Flu-MP_Influenza</th>\n",
       "      <th>B0801_RAKFKQLL_BZLF1_EBV</th>\n",
       "      <th>A0301_KLGGALQAK_IE-1_CMV</th>\n",
       "      <th>A0201_GLCTLVAML_BMLF1_EBV</th>\n",
       "      <th>A1101_AVFDRKSDAK_EBNA-3B_EBV</th>\n",
       "    </tr>\n",
       "  </thead>\n",
       "  <tbody>\n",
       "    <tr>\n",
       "      <th>AAACCTGAGAAACCTA-30-donor_2</th>\n",
       "      <td>0.0</td>\n",
       "      <td>61.0</td>\n",
       "      <td>4.0</td>\n",
       "      <td>0.0</td>\n",
       "      <td>1.0</td>\n",
       "    </tr>\n",
       "    <tr>\n",
       "      <th>AAACCTGAGAACTCGG-39-donor_2</th>\n",
       "      <td>0.0</td>\n",
       "      <td>0.0</td>\n",
       "      <td>3.0</td>\n",
       "      <td>0.0</td>\n",
       "      <td>2.0</td>\n",
       "    </tr>\n",
       "    <tr>\n",
       "      <th>AAACCTGAGAAGGGTA-9-donor_2</th>\n",
       "      <td>0.0</td>\n",
       "      <td>20.0</td>\n",
       "      <td>1.0</td>\n",
       "      <td>1.0</td>\n",
       "      <td>1.0</td>\n",
       "    </tr>\n",
       "    <tr>\n",
       "      <th>AAACCTGAGACACTAA-40-donor_2</th>\n",
       "      <td>0.0</td>\n",
       "      <td>0.0</td>\n",
       "      <td>0.0</td>\n",
       "      <td>0.0</td>\n",
       "      <td>1.0</td>\n",
       "    </tr>\n",
       "    <tr>\n",
       "      <th>AAACCTGAGACGCTTT-11-donor_2</th>\n",
       "      <td>0.0</td>\n",
       "      <td>79.0</td>\n",
       "      <td>6.0</td>\n",
       "      <td>0.0</td>\n",
       "      <td>0.0</td>\n",
       "    </tr>\n",
       "  </tbody>\n",
       "</table>\n",
       "</div>"
      ],
      "text/plain": [
       "                             A0201_GILGFVFTL_Flu-MP_Influenza  \\\n",
       "AAACCTGAGAAACCTA-30-donor_2                               0.0   \n",
       "AAACCTGAGAACTCGG-39-donor_2                               0.0   \n",
       "AAACCTGAGAAGGGTA-9-donor_2                                0.0   \n",
       "AAACCTGAGACACTAA-40-donor_2                               0.0   \n",
       "AAACCTGAGACGCTTT-11-donor_2                               0.0   \n",
       "\n",
       "                             B0801_RAKFKQLL_BZLF1_EBV  \\\n",
       "AAACCTGAGAAACCTA-30-donor_2                      61.0   \n",
       "AAACCTGAGAACTCGG-39-donor_2                       0.0   \n",
       "AAACCTGAGAAGGGTA-9-donor_2                       20.0   \n",
       "AAACCTGAGACACTAA-40-donor_2                       0.0   \n",
       "AAACCTGAGACGCTTT-11-donor_2                      79.0   \n",
       "\n",
       "                             A0301_KLGGALQAK_IE-1_CMV  \\\n",
       "AAACCTGAGAAACCTA-30-donor_2                       4.0   \n",
       "AAACCTGAGAACTCGG-39-donor_2                       3.0   \n",
       "AAACCTGAGAAGGGTA-9-donor_2                        1.0   \n",
       "AAACCTGAGACACTAA-40-donor_2                       0.0   \n",
       "AAACCTGAGACGCTTT-11-donor_2                       6.0   \n",
       "\n",
       "                             A0201_GLCTLVAML_BMLF1_EBV  \\\n",
       "AAACCTGAGAAACCTA-30-donor_2                        0.0   \n",
       "AAACCTGAGAACTCGG-39-donor_2                        0.0   \n",
       "AAACCTGAGAAGGGTA-9-donor_2                         1.0   \n",
       "AAACCTGAGACACTAA-40-donor_2                        0.0   \n",
       "AAACCTGAGACGCTTT-11-donor_2                        0.0   \n",
       "\n",
       "                             A1101_AVFDRKSDAK_EBNA-3B_EBV  \n",
       "AAACCTGAGAAACCTA-30-donor_2                           1.0  \n",
       "AAACCTGAGAACTCGG-39-donor_2                           2.0  \n",
       "AAACCTGAGAAGGGTA-9-donor_2                            1.0  \n",
       "AAACCTGAGACACTAA-40-donor_2                           1.0  \n",
       "AAACCTGAGACGCTTT-11-donor_2                           0.0  "
      ]
     },
     "execution_count": 34,
     "metadata": {},
     "output_type": "execute_result"
    }
   ],
   "source": [
    "path_binding = '../../data/10x_CD8TC/' + f'patient_{donor}/vdj_v1_hs_aggregated_donor{donor}_binarized_matrix.csv'\n",
    "binarized_matrix = pd.read_csv(path_binding, sep=',', header=0, index_col=0)\n",
    "binarized_matrix.index.name = None\n",
    "cols_binder_counts = data.obs['binding_name'].unique().tolist()\n",
    "cols_binder_counts = ['_'.join(el.split('_')[:-1]) for el in cols_binder_counts]\n",
    "binarized_matrix = binarized_matrix[cols_binder_counts]\n",
    "binarized_matrix.index = binarized_matrix.index + f'-donor_{donor}'\n",
    "binarized_matrix.head()"
   ]
  },
  {
   "cell_type": "code",
   "execution_count": 43,
   "id": "b620ac9b",
   "metadata": {},
   "outputs": [],
   "source": [
    "binarized_matrix = binarized_matrix.loc[data.obs.index]\n",
    "data.obsm['binding_counts'] = binarized_matrix.values"
   ]
  },
  {
   "cell_type": "markdown",
   "id": "25c8e443",
   "metadata": {},
   "source": [
    "## Latent and UMAPs"
   ]
  },
  {
   "cell_type": "code",
   "execution_count": 50,
   "id": "a2bff5de",
   "metadata": {
    "scrolled": false
   },
   "outputs": [],
   "source": [
    "moe_model = models['moe']\n",
    "latent_moe = moe_model.get_latent(data, metadata=['binding_name', 'clonotype'], return_mean=True)\n",
    "latent_moe.obsm['binding_counts'] = data.obsm['binding_counts']"
   ]
  },
  {
   "cell_type": "code",
   "execution_count": 48,
   "id": "63abc99e",
   "metadata": {},
   "outputs": [],
   "source": [
    "rna_model = models['rna']\n",
    "latent_rna = rna_model.get_latent(data, metadata=['binding_name', 'clonotype'])\n",
    "latent_rna.obsm['binding_counts'] = data.obsm['binding_counts']"
   ]
  },
  {
   "cell_type": "code",
   "execution_count": 49,
   "id": "5b2b4394",
   "metadata": {},
   "outputs": [],
   "source": [
    "tcr_model = models['tcr']\n",
    "latent_tcr = tcr_model.get_latent(data, metadata=['binding_name', 'clonotype'])\n",
    "latent_tcr.obsm['binding_counts'] = data.obsm['binding_counts']"
   ]
  },
  {
   "cell_type": "code",
   "execution_count": 58,
   "id": "4835cd29",
   "metadata": {},
   "outputs": [],
   "source": [
    "latents = {\n",
    "    'moe': latent_moe,\n",
    "    'rna': latent_rna,\n",
    "    'tcr': latent_tcr,\n",
    "}"
   ]
  },
  {
   "cell_type": "markdown",
   "id": "59874163",
   "metadata": {},
   "source": [
    "### Predict counts"
   ]
  },
  {
   "cell_type": "code",
   "execution_count": 101,
   "id": "6ab83d5d",
   "metadata": {},
   "outputs": [],
   "source": [
    "from sklearn.linear_model import PoissonRegressor\n",
    "from sklearn.metrics import mean_squared_error\n",
    "from sklearn.model_selection import KFold\n",
    "from sklearn.neural_network import MLPRegressor\n",
    "import statsmodels.api as sm"
   ]
  },
  {
   "cell_type": "code",
   "execution_count": 108,
   "id": "1b292349",
   "metadata": {},
   "outputs": [
    {
     "data": {
      "text/plain": [
       "[1370.9750003089898,\n",
       " 1691.285115915358,\n",
       " 1532.1344811064737,\n",
       " 2000.5319386518408,\n",
       " 1832.1084724406878,\n",
       " 1535.893880828379,\n",
       " 82826.40627208038,\n",
       " 1802.5474918040106,\n",
       " 1534.66461317579,\n",
       " 1581.2757850926344]"
      ]
     },
     "execution_count": 108,
     "metadata": {},
     "output_type": "execute_result"
    }
   ],
   "source": [
    "k = 10\n",
    "kf = KFold(n_splits=k, shuffle=True) \n",
    "\n",
    "def results_cross_validation(X, y):\n",
    "    #X = X.reshape(-1,1)\n",
    "    scores = []\n",
    "    for train_index, test_index in kf.split(X):\n",
    "        \n",
    "        X_train, X_test = X[train_index], X[test_index]\n",
    "        y_train, y_test = y[train_index], y[test_index]\n",
    "        model.fit(X_train, y_train)\n",
    "        pred_values = model.predict(X_test)\n",
    "        mse = mean_squared_error(y_true = y_test, y_pred = pred_values)\n",
    "        scores.append(mse)\n",
    "    return scores\n",
    "\n",
    "results_cross_validation(adata.X, adata.obsm['binding_counts'][:, 0])"
   ]
  },
  {
   "cell_type": "code",
   "execution_count": 109,
   "id": "cc9d35cc",
   "metadata": {},
   "outputs": [
    {
     "data": {
      "text/html": [
       "<div>\n",
       "<style scoped>\n",
       "    .dataframe tbody tr th:only-of-type {\n",
       "        vertical-align: middle;\n",
       "    }\n",
       "\n",
       "    .dataframe tbody tr th {\n",
       "        vertical-align: top;\n",
       "    }\n",
       "\n",
       "    .dataframe thead th {\n",
       "        text-align: right;\n",
       "    }\n",
       "</style>\n",
       "<table border=\"1\" class=\"dataframe\">\n",
       "  <thead>\n",
       "    <tr style=\"text-align: right;\">\n",
       "      <th></th>\n",
       "      <th>model</th>\n",
       "      <th>fold</th>\n",
       "      <th>binder</th>\n",
       "      <th>MSE</th>\n",
       "    </tr>\n",
       "  </thead>\n",
       "  <tbody>\n",
       "    <tr>\n",
       "      <th>0</th>\n",
       "      <td>moe</td>\n",
       "      <td>0</td>\n",
       "      <td>A0201_GILGFVFTL_Flu-MP_Influenza</td>\n",
       "      <td>2129.443615</td>\n",
       "    </tr>\n",
       "    <tr>\n",
       "      <th>1</th>\n",
       "      <td>moe</td>\n",
       "      <td>1</td>\n",
       "      <td>A0201_GILGFVFTL_Flu-MP_Influenza</td>\n",
       "      <td>81278.302584</td>\n",
       "    </tr>\n",
       "    <tr>\n",
       "      <th>2</th>\n",
       "      <td>moe</td>\n",
       "      <td>2</td>\n",
       "      <td>A0201_GILGFVFTL_Flu-MP_Influenza</td>\n",
       "      <td>2258.230519</td>\n",
       "    </tr>\n",
       "    <tr>\n",
       "      <th>3</th>\n",
       "      <td>moe</td>\n",
       "      <td>3</td>\n",
       "      <td>A0201_GILGFVFTL_Flu-MP_Influenza</td>\n",
       "      <td>1856.836974</td>\n",
       "    </tr>\n",
       "    <tr>\n",
       "      <th>4</th>\n",
       "      <td>moe</td>\n",
       "      <td>4</td>\n",
       "      <td>A0201_GILGFVFTL_Flu-MP_Influenza</td>\n",
       "      <td>1738.464912</td>\n",
       "    </tr>\n",
       "    <tr>\n",
       "      <th>...</th>\n",
       "      <td>...</td>\n",
       "      <td>...</td>\n",
       "      <td>...</td>\n",
       "      <td>...</td>\n",
       "    </tr>\n",
       "    <tr>\n",
       "      <th>145</th>\n",
       "      <td>tcr</td>\n",
       "      <td>5</td>\n",
       "      <td>A1101_AVFDRKSDAK_EBNA-3B_EBV</td>\n",
       "      <td>165.766745</td>\n",
       "    </tr>\n",
       "    <tr>\n",
       "      <th>146</th>\n",
       "      <td>tcr</td>\n",
       "      <td>6</td>\n",
       "      <td>A1101_AVFDRKSDAK_EBNA-3B_EBV</td>\n",
       "      <td>80.341031</td>\n",
       "    </tr>\n",
       "    <tr>\n",
       "      <th>147</th>\n",
       "      <td>tcr</td>\n",
       "      <td>7</td>\n",
       "      <td>A1101_AVFDRKSDAK_EBNA-3B_EBV</td>\n",
       "      <td>113.547915</td>\n",
       "    </tr>\n",
       "    <tr>\n",
       "      <th>148</th>\n",
       "      <td>tcr</td>\n",
       "      <td>8</td>\n",
       "      <td>A1101_AVFDRKSDAK_EBNA-3B_EBV</td>\n",
       "      <td>100.426394</td>\n",
       "    </tr>\n",
       "    <tr>\n",
       "      <th>149</th>\n",
       "      <td>tcr</td>\n",
       "      <td>9</td>\n",
       "      <td>A1101_AVFDRKSDAK_EBNA-3B_EBV</td>\n",
       "      <td>46.889837</td>\n",
       "    </tr>\n",
       "  </tbody>\n",
       "</table>\n",
       "<p>150 rows × 4 columns</p>\n",
       "</div>"
      ],
      "text/plain": [
       "    model  fold                            binder           MSE\n",
       "0     moe     0  A0201_GILGFVFTL_Flu-MP_Influenza   2129.443615\n",
       "1     moe     1  A0201_GILGFVFTL_Flu-MP_Influenza  81278.302584\n",
       "2     moe     2  A0201_GILGFVFTL_Flu-MP_Influenza   2258.230519\n",
       "3     moe     3  A0201_GILGFVFTL_Flu-MP_Influenza   1856.836974\n",
       "4     moe     4  A0201_GILGFVFTL_Flu-MP_Influenza   1738.464912\n",
       "..    ...   ...                               ...           ...\n",
       "145   tcr     5      A1101_AVFDRKSDAK_EBNA-3B_EBV    165.766745\n",
       "146   tcr     6      A1101_AVFDRKSDAK_EBNA-3B_EBV     80.341031\n",
       "147   tcr     7      A1101_AVFDRKSDAK_EBNA-3B_EBV    113.547915\n",
       "148   tcr     8      A1101_AVFDRKSDAK_EBNA-3B_EBV    100.426394\n",
       "149   tcr     9      A1101_AVFDRKSDAK_EBNA-3B_EBV     46.889837\n",
       "\n",
       "[150 rows x 4 columns]"
      ]
     },
     "execution_count": 109,
     "metadata": {},
     "output_type": "execute_result"
    }
   ],
   "source": [
    "scores = []\n",
    "models = []\n",
    "folds = []\n",
    "binders = []\n",
    "\n",
    "n_binders = adata.obsm['binding_counts'].shape[1]\n",
    "\n",
    "for space, adata in latents.items():\n",
    "    for i in range(n_binders):\n",
    "        scores_space = results_cross_validation(adata.X, adata.obsm['binding_counts'][:, i])\n",
    "        models += [space] * k\n",
    "        folds += list(range(k))\n",
    "        scores += scores_space\n",
    "        binders += [cols_binder_counts[i]] * k\n",
    "\n",
    "results = pd.DataFrame(data={\n",
    "    'model': models,\n",
    "    'fold': folds,\n",
    "    'binder': binders,\n",
    "    'MSE': scores \n",
    "})\n",
    "results"
   ]
  },
  {
   "cell_type": "code",
   "execution_count": 110,
   "id": "3f8309e4",
   "metadata": {},
   "outputs": [
    {
     "data": {
      "text/plain": [
       "model  binder                          \n",
       "moe    A0201_GILGFVFTL_Flu-MP_Influenza     9966.515844\n",
       "       A0201_GLCTLVAML_BMLF1_EBV             144.734281\n",
       "       A0301_KLGGALQAK_IE-1_CMV               69.962236\n",
       "       A1101_AVFDRKSDAK_EBNA-3B_EBV           75.117096\n",
       "       B0801_RAKFKQLL_BZLF1_EBV             2532.101674\n",
       "rna    A0201_GILGFVFTL_Flu-MP_Influenza    10046.469967\n",
       "       A0201_GLCTLVAML_BMLF1_EBV             160.881873\n",
       "       A0301_KLGGALQAK_IE-1_CMV               72.304496\n",
       "       A1101_AVFDRKSDAK_EBNA-3B_EBV           76.006052\n",
       "       B0801_RAKFKQLL_BZLF1_EBV             2340.759557\n",
       "tcr    A0201_GILGFVFTL_Flu-MP_Influenza     9772.509502\n",
       "       A0201_GLCTLVAML_BMLF1_EBV             142.581793\n",
       "       A0301_KLGGALQAK_IE-1_CMV               67.861072\n",
       "       A1101_AVFDRKSDAK_EBNA-3B_EBV           74.952359\n",
       "       B0801_RAKFKQLL_BZLF1_EBV             2240.968185\n",
       "Name: MSE, dtype: float64"
      ]
     },
     "execution_count": 110,
     "metadata": {},
     "output_type": "execute_result"
    }
   ],
   "source": [
    "results.groupby(['model', 'binder'])['MSE'].mean()"
   ]
  },
  {
   "cell_type": "code",
   "execution_count": 111,
   "id": "643a48f7",
   "metadata": {},
   "outputs": [
    {
     "data": {
      "text/plain": [
       "<AxesSubplot:xlabel='model', ylabel='MSE'>"
      ]
     },
     "execution_count": 111,
     "metadata": {},
     "output_type": "execute_result"
    },
    {
     "data": {
      "image/png": "[encoded data removed]",
      "text/plain": [
       "<Figure size 432x288 with 1 Axes>"
      ]
     },
     "metadata": {
      "needs_background": "light"
     },
     "output_type": "display_data"
    }
   ],
   "source": [
    "sb.barplot(data=results, y='MSE', x='model', hue='binder')"
   ]
  },
  {
   "cell_type": "code",
   "execution_count": 112,
   "id": "942d5f5c",
   "metadata": {},
   "outputs": [
    {
     "data": {
      "text/plain": [
       "B0801_RAKFKQLL_BZLF1_EBV_binder            16410\n",
       "A0201_GILGFVFTL_Flu-MP_Influenza_binder     5412\n",
       "A0301_KLGGALQAK_IE-1_CMV_binder             3587\n",
       "A0201_GLCTLVAML_BMLF1_EBV_binder            1224\n",
       "A1101_AVFDRKSDAK_EBNA-3B_EBV_binder          362\n",
       "Name: binding_name, dtype: int64"
      ]
     },
     "execution_count": 112,
     "metadata": {},
     "output_type": "execute_result"
    }
   ],
   "source": [
    "data.obs['binding_name'].value_counts()"
   ]
  },
  {
   "cell_type": "code",
   "execution_count": 113,
   "id": "768b680c",
   "metadata": {},
   "outputs": [
    {
     "data": {
      "text/plain": [
       "['A0201_GILGFVFTL_Flu-MP_Influenza',\n",
       " 'B0801_RAKFKQLL_BZLF1_EBV',\n",
       " 'A0301_KLGGALQAK_IE-1_CMV',\n",
       " 'A0201_GLCTLVAML_BMLF1_EBV',\n",
       " 'A1101_AVFDRKSDAK_EBNA-3B_EBV']"
      ]
     },
     "execution_count": 113,
     "metadata": {},
     "output_type": "execute_result"
    }
   ],
   "source": [
    "cols_binder_counts"
   ]
  },
  {
   "cell_type": "code",
   "execution_count": 114,
   "id": "cd10642a",
   "metadata": {},
   "outputs": [
    {
     "data": {
      "text/plain": [
       "array([14899.,   582.,   123.,   337.,   557.])"
      ]
     },
     "execution_count": 114,
     "metadata": {},
     "output_type": "execute_result"
    }
   ],
   "source": [
    "data.obsm['binding_counts'].max(axis=0)"
   ]
  }
 ],
 "metadata": {
  "kernelspec": {
   "display_name": "Python [conda env:mvtcr_4]",
   "language": "python",
   "name": "conda-env-mvtcr_4-py"
  },
  "language_info": {
   "codemirror_mode": {
    "name": "ipython",
    "version": 3
   },
   "file_extension": ".py",
   "mimetype": "text/x-python",
   "name": "python",
   "nbconvert_exporter": "python",
   "pygments_lexer": "ipython3",
   "version": "3.8.8"
  }
 },
 "nbformat": 4,
 "nbformat_minor": 5
}
