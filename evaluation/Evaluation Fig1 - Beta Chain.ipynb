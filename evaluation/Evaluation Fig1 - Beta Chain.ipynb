{
 "cells": [
  {
   "cell_type": "markdown",
   "id": "b273dc55",
   "metadata": {},
   "source": [
    "# mvTCR - MoE\n",
    "We trained our model (version moe) purely on rna and beta chain to enable a fair comparison to TESSA. As previously, we splitted the data into training, validation, and testing to seperate clonotypes, but this time clonotypes were defined as cells with the same CDR3beta chain instead of identical CDR3beta and CDR3alpha chain."
   ]
  },
  {
   "cell_type": "code",
   "execution_count": 1,
   "id": "e261ff52",
   "metadata": {},
   "outputs": [],
   "source": [
    "import pandas as pd"
   ]
  },
  {
   "cell_type": "code",
   "execution_count": 4,
   "id": "c9cce802",
   "metadata": {},
   "outputs": [],
   "source": [
    "import sys\n",
    "sys.path.append('../..')\n",
    "import tcr_embedding.utils_training as utils\n",
    "import config.constants_10x as const\n",
    "\n",
    "from tcr_embedding.utils_preprocessing import stratified_group_shuffle_split, group_shuffle_split\n",
    "from tcr_embedding.evaluation.Imputation import run_imputation_evaluation\n",
    "from tcr_embedding.evaluation.Clustering import run_clustering_evaluation\n",
    "from tcr_embedding.evaluation.kNN import run_knn_within_set_evaluation\n",
    "from tcr_embedding.evaluation.WrapperFunctions import get_model_prediction_function"
   ]
  },
  {
   "cell_type": "markdown",
   "id": "96ae24c1",
   "metadata": {},
   "source": [
    "## Helper Functions"
   ]
  },
  {
   "cell_type": "code",
   "execution_count": 11,
   "id": "7406251e",
   "metadata": {},
   "outputs": [],
   "source": [
    "def load_model(adata, dataset, split):\n",
    "    path_model = f'saved_models/journal/beta_only/{dataset}/'\n",
    "    path_model += f'{dataset}_moe_split_{split}.pt'\n",
    "    model = utils.load_model(adata, path_model)\n",
    "    return model"
   ]
  },
  {
   "cell_type": "code",
   "execution_count": 16,
   "id": "25e2bca0",
   "metadata": {},
   "outputs": [],
   "source": [
    "def load_10x_data(donor, split):\n",
    "    adata = utils.load_data('10x')\n",
    "    adata = adata[adata.obs['donor'] == f'donor_{donor}']\n",
    "    adata = adata[adata.obs['binding_name'].isin(const.HIGH_COUNT_ANTIGENS)]\n",
    "\n",
    "    random_seed = split\n",
    "\n",
    "    adata.obs['group_col'] = [seq[1:-1] for seq in adata.obs['IR_VDJ_1_cdr3']]\n",
    "    train_val, test = group_shuffle_split(adata, group_col='group_col', val_split=0.20, random_seed=random_seed)\n",
    "    train, val = group_shuffle_split(train_val, group_col='group_col', val_split=0.25, random_seed=random_seed)\n",
    "\n",
    "\n",
    "    adata.obs['set'] = 'train'\n",
    "    adata.obs.loc[val.obs.index, 'set'] = 'val'\n",
    "    adata.obs.loc[test.obs.index, 'set'] = 'test'\n",
    "    adata = adata[adata.obs['set'].isin(['train', 'test'])]\n",
    "    return adata"
   ]
  },
  {
   "cell_type": "code",
   "execution_count": 13,
   "id": "8e49336b",
   "metadata": {},
   "outputs": [],
   "source": [
    "def load_covid_data(split):\n",
    "    adata = utils.load_data('covid')\n",
    "    random_seed = split\n",
    "    \n",
    "    sub, non_sub = group_shuffle_split(adata, group_col='TRB_1_cdr3', val_split=0.2, random_seed=random_seed)\n",
    "    train, val = group_shuffle_split(sub, group_col='TRB_1_cdr3', val_split=0.20, random_seed=random_seed)\n",
    "\n",
    "    adata.obs['set'] = 'train'\n",
    "    adata.obs.loc[non_sub.obs.index, 'set'] = '-'\n",
    "    adata.obs.loc[val.obs.index, 'set'] = 'val'\n",
    "    adata = adata[adata.obs['set'].isin(['train', 'val'])]\n",
    "    return adata"
   ]
  },
  {
   "cell_type": "markdown",
   "id": "6096bb9e",
   "metadata": {},
   "source": [
    "## 10x - Donor 1"
   ]
  },
  {
   "cell_type": "code",
   "execution_count": 21,
   "id": "f8a6a0de",
   "metadata": {},
   "outputs": [
    {
     "name": "stderr",
     "output_type": "stream",
     "text": [
      "Trying to set attribute `.obs` of view, copying.\n"
     ]
    },
    {
     "name": "stdout",
     "output_type": "stream",
     "text": [
      "split: 0\n"
     ]
    },
    {
     "name": "stderr",
     "output_type": "stream",
     "text": [
      "Trying to set attribute `.obs` of view, copying.\n"
     ]
    },
    {
     "name": "stdout",
     "output_type": "stream",
     "text": [
      "split: 1\n"
     ]
    },
    {
     "name": "stderr",
     "output_type": "stream",
     "text": [
      "Trying to set attribute `.obs` of view, copying.\n"
     ]
    },
    {
     "name": "stdout",
     "output_type": "stream",
     "text": [
      "split: 2\n"
     ]
    },
    {
     "name": "stderr",
     "output_type": "stream",
     "text": [
      "Trying to set attribute `.obs` of view, copying.\n"
     ]
    },
    {
     "name": "stdout",
     "output_type": "stream",
     "text": [
      "split: 3\n"
     ]
    },
    {
     "name": "stderr",
     "output_type": "stream",
     "text": [
      "Trying to set attribute `.obs` of view, copying.\n"
     ]
    },
    {
     "name": "stdout",
     "output_type": "stream",
     "text": [
      "split: 4\n"
     ]
    },
    {
     "data": {
      "text/html": [
       "<div>\n",
       "<style scoped>\n",
       "    .dataframe tbody tr th:only-of-type {\n",
       "        vertical-align: middle;\n",
       "    }\n",
       "\n",
       "    .dataframe tbody tr th {\n",
       "        vertical-align: top;\n",
       "    }\n",
       "\n",
       "    .dataframe thead th {\n",
       "        text-align: right;\n",
       "    }\n",
       "</style>\n",
       "<table border=\"1\" class=\"dataframe\">\n",
       "  <thead>\n",
       "    <tr style=\"text-align: right;\">\n",
       "      <th></th>\n",
       "      <th>model</th>\n",
       "      <th>split</th>\n",
       "      <th>metrics</th>\n",
       "      <th>scores</th>\n",
       "    </tr>\n",
       "  </thead>\n",
       "  <tbody>\n",
       "    <tr>\n",
       "      <th>0</th>\n",
       "      <td>moe_beta</td>\n",
       "      <td>0</td>\n",
       "      <td>Prediction test</td>\n",
       "      <td>0.707285</td>\n",
       "    </tr>\n",
       "    <tr>\n",
       "      <th>1</th>\n",
       "      <td>moe_beta</td>\n",
       "      <td>0</td>\n",
       "      <td>NMI</td>\n",
       "      <td>0.470503</td>\n",
       "    </tr>\n",
       "    <tr>\n",
       "      <th>2</th>\n",
       "      <td>moe_beta</td>\n",
       "      <td>0</td>\n",
       "      <td>kNN within</td>\n",
       "      <td>0.845825</td>\n",
       "    </tr>\n",
       "    <tr>\n",
       "      <th>3</th>\n",
       "      <td>moe_beta</td>\n",
       "      <td>1</td>\n",
       "      <td>Prediction test</td>\n",
       "      <td>0.788823</td>\n",
       "    </tr>\n",
       "    <tr>\n",
       "      <th>4</th>\n",
       "      <td>moe_beta</td>\n",
       "      <td>1</td>\n",
       "      <td>NMI</td>\n",
       "      <td>0.645450</td>\n",
       "    </tr>\n",
       "    <tr>\n",
       "      <th>5</th>\n",
       "      <td>moe_beta</td>\n",
       "      <td>1</td>\n",
       "      <td>kNN within</td>\n",
       "      <td>0.862944</td>\n",
       "    </tr>\n",
       "    <tr>\n",
       "      <th>6</th>\n",
       "      <td>moe_beta</td>\n",
       "      <td>2</td>\n",
       "      <td>Prediction test</td>\n",
       "      <td>0.609094</td>\n",
       "    </tr>\n",
       "    <tr>\n",
       "      <th>7</th>\n",
       "      <td>moe_beta</td>\n",
       "      <td>2</td>\n",
       "      <td>NMI</td>\n",
       "      <td>0.590328</td>\n",
       "    </tr>\n",
       "    <tr>\n",
       "      <th>8</th>\n",
       "      <td>moe_beta</td>\n",
       "      <td>2</td>\n",
       "      <td>kNN within</td>\n",
       "      <td>0.870304</td>\n",
       "    </tr>\n",
       "    <tr>\n",
       "      <th>9</th>\n",
       "      <td>moe_beta</td>\n",
       "      <td>3</td>\n",
       "      <td>Prediction test</td>\n",
       "      <td>0.766852</td>\n",
       "    </tr>\n",
       "    <tr>\n",
       "      <th>10</th>\n",
       "      <td>moe_beta</td>\n",
       "      <td>3</td>\n",
       "      <td>NMI</td>\n",
       "      <td>0.667587</td>\n",
       "    </tr>\n",
       "    <tr>\n",
       "      <th>11</th>\n",
       "      <td>moe_beta</td>\n",
       "      <td>3</td>\n",
       "      <td>kNN within</td>\n",
       "      <td>0.889350</td>\n",
       "    </tr>\n",
       "    <tr>\n",
       "      <th>12</th>\n",
       "      <td>moe_beta</td>\n",
       "      <td>4</td>\n",
       "      <td>Prediction test</td>\n",
       "      <td>0.310098</td>\n",
       "    </tr>\n",
       "    <tr>\n",
       "      <th>13</th>\n",
       "      <td>moe_beta</td>\n",
       "      <td>4</td>\n",
       "      <td>NMI</td>\n",
       "      <td>0.548281</td>\n",
       "    </tr>\n",
       "    <tr>\n",
       "      <th>14</th>\n",
       "      <td>moe_beta</td>\n",
       "      <td>4</td>\n",
       "      <td>kNN within</td>\n",
       "      <td>0.845083</td>\n",
       "    </tr>\n",
       "  </tbody>\n",
       "</table>\n",
       "</div>"
      ],
      "text/plain": [
       "       model  split          metrics    scores\n",
       "0   moe_beta      0  Prediction test  0.707285\n",
       "1   moe_beta      0              NMI  0.470503\n",
       "2   moe_beta      0       kNN within  0.845825\n",
       "3   moe_beta      1  Prediction test  0.788823\n",
       "4   moe_beta      1              NMI  0.645450\n",
       "5   moe_beta      1       kNN within  0.862944\n",
       "6   moe_beta      2  Prediction test  0.609094\n",
       "7   moe_beta      2              NMI  0.590328\n",
       "8   moe_beta      2       kNN within  0.870304\n",
       "9   moe_beta      3  Prediction test  0.766852\n",
       "10  moe_beta      3              NMI  0.667587\n",
       "11  moe_beta      3       kNN within  0.889350\n",
       "12  moe_beta      4  Prediction test  0.310098\n",
       "13  moe_beta      4              NMI  0.548281\n",
       "14  moe_beta      4       kNN within  0.845083"
      ]
     },
     "execution_count": 21,
     "metadata": {},
     "output_type": "execute_result"
    }
   ],
   "source": [
    "donor = 1\n",
    "dataset = f'10x_{donor}'\n",
    "metadata = ['binding_name', 'clonotype', 'donor']\n",
    "\n",
    "model_names = []\n",
    "splits = []\n",
    "metrics = []\n",
    "scores = []\n",
    "\n",
    "for split in range(0, 5):\n",
    "    data = load_10x_data(donor, split)\n",
    "    \n",
    "    print(f'split: {split}')\n",
    "    model = load_model(data, dataset, split)\n",
    "    test_embedding_func = get_model_prediction_function(model)\n",
    "    for source in ['test']:\n",
    "        summary = run_imputation_evaluation(data, test_embedding_func, query_source=source,\n",
    "                                    label_pred='binding_name')\n",
    "        result = summary['knn']['weighted avg']['f1-score']\n",
    "\n",
    "        model_names.append('moe_beta')\n",
    "        splits.append(split)\n",
    "        metrics.append(f'Prediction {source}')\n",
    "        scores.append(result)\n",
    "\n",
    "    best_nmi = -99\n",
    "    for resolution in [0.01, 0.1, 1.0]:\n",
    "        cluster_result = run_clustering_evaluation(data, test_embedding_func, 'train', name_label='binding_name', \n",
    "                                           cluster_params={'resolution': resolution, 'num_neighbors': 5})\n",
    "        best_nmi = max(cluster_result['NMI'], best_nmi)\n",
    "    model_names.append('moe_beta')\n",
    "    splits.append(split)\n",
    "    metrics.append('NMI')\n",
    "    scores.append(best_nmi)\n",
    "\n",
    "    test_embedding_func = get_model_prediction_function(model, do_adata=True, metadata=['binding_name'])\n",
    "    knn_within = run_knn_within_set_evaluation(data, test_embedding_func, \n",
    "                                               'binding_name', subset=['train', 'val'])\n",
    "    knn_within = knn_within['weighted_f1_binding_name']\n",
    "    model_names.append('moe_beta')\n",
    "    splits.append(split)\n",
    "    metrics.append('kNN within')\n",
    "    scores.append(knn_within)\n",
    "\n",
    "results_10x_1 = {\n",
    "    'model': model_names,\n",
    "    'split': splits,\n",
    "    'metrics': metrics,\n",
    "    'scores': scores,\n",
    "}\n",
    "results_10x_1 = pd.DataFrame(results_10x_1)\n",
    "results_10x_1.to_csv('results/performance_10x_donor_1_beta.csv')\n",
    "results_10x_1"
   ]
  },
  {
   "cell_type": "markdown",
   "id": "e4912ae3",
   "metadata": {},
   "source": [
    "## 10x - Donor 2"
   ]
  },
  {
   "cell_type": "code",
   "execution_count": 23,
   "id": "a95014b6",
   "metadata": {},
   "outputs": [
    {
     "name": "stderr",
     "output_type": "stream",
     "text": [
      "Trying to set attribute `.obs` of view, copying.\n"
     ]
    },
    {
     "name": "stdout",
     "output_type": "stream",
     "text": [
      "split: 0\n"
     ]
    },
    {
     "name": "stderr",
     "output_type": "stream",
     "text": [
      "Trying to set attribute `.obs` of view, copying.\n"
     ]
    },
    {
     "name": "stdout",
     "output_type": "stream",
     "text": [
      "split: 1\n"
     ]
    },
    {
     "name": "stderr",
     "output_type": "stream",
     "text": [
      "Trying to set attribute `.obs` of view, copying.\n"
     ]
    },
    {
     "name": "stdout",
     "output_type": "stream",
     "text": [
      "split: 2\n"
     ]
    },
    {
     "name": "stderr",
     "output_type": "stream",
     "text": [
      "Trying to set attribute `.obs` of view, copying.\n"
     ]
    },
    {
     "name": "stdout",
     "output_type": "stream",
     "text": [
      "split: 3\n"
     ]
    },
    {
     "name": "stderr",
     "output_type": "stream",
     "text": [
      "Trying to set attribute `.obs` of view, copying.\n"
     ]
    },
    {
     "name": "stdout",
     "output_type": "stream",
     "text": [
      "split: 4\n"
     ]
    },
    {
     "data": {
      "text/html": [
       "<div>\n",
       "<style scoped>\n",
       "    .dataframe tbody tr th:only-of-type {\n",
       "        vertical-align: middle;\n",
       "    }\n",
       "\n",
       "    .dataframe tbody tr th {\n",
       "        vertical-align: top;\n",
       "    }\n",
       "\n",
       "    .dataframe thead th {\n",
       "        text-align: right;\n",
       "    }\n",
       "</style>\n",
       "<table border=\"1\" class=\"dataframe\">\n",
       "  <thead>\n",
       "    <tr style=\"text-align: right;\">\n",
       "      <th></th>\n",
       "      <th>model</th>\n",
       "      <th>split</th>\n",
       "      <th>metrics</th>\n",
       "      <th>scores</th>\n",
       "    </tr>\n",
       "  </thead>\n",
       "  <tbody>\n",
       "    <tr>\n",
       "      <th>0</th>\n",
       "      <td>moe_beta</td>\n",
       "      <td>0</td>\n",
       "      <td>Prediction test</td>\n",
       "      <td>0.711281</td>\n",
       "    </tr>\n",
       "    <tr>\n",
       "      <th>1</th>\n",
       "      <td>moe_beta</td>\n",
       "      <td>0</td>\n",
       "      <td>NMI</td>\n",
       "      <td>0.320359</td>\n",
       "    </tr>\n",
       "    <tr>\n",
       "      <th>2</th>\n",
       "      <td>moe_beta</td>\n",
       "      <td>0</td>\n",
       "      <td>kNN within</td>\n",
       "      <td>0.945995</td>\n",
       "    </tr>\n",
       "    <tr>\n",
       "      <th>3</th>\n",
       "      <td>moe_beta</td>\n",
       "      <td>1</td>\n",
       "      <td>Prediction test</td>\n",
       "      <td>0.830582</td>\n",
       "    </tr>\n",
       "    <tr>\n",
       "      <th>4</th>\n",
       "      <td>moe_beta</td>\n",
       "      <td>1</td>\n",
       "      <td>NMI</td>\n",
       "      <td>0.381781</td>\n",
       "    </tr>\n",
       "    <tr>\n",
       "      <th>5</th>\n",
       "      <td>moe_beta</td>\n",
       "      <td>1</td>\n",
       "      <td>kNN within</td>\n",
       "      <td>0.943557</td>\n",
       "    </tr>\n",
       "    <tr>\n",
       "      <th>6</th>\n",
       "      <td>moe_beta</td>\n",
       "      <td>2</td>\n",
       "      <td>Prediction test</td>\n",
       "      <td>0.730390</td>\n",
       "    </tr>\n",
       "    <tr>\n",
       "      <th>7</th>\n",
       "      <td>moe_beta</td>\n",
       "      <td>2</td>\n",
       "      <td>NMI</td>\n",
       "      <td>0.341581</td>\n",
       "    </tr>\n",
       "    <tr>\n",
       "      <th>8</th>\n",
       "      <td>moe_beta</td>\n",
       "      <td>2</td>\n",
       "      <td>kNN within</td>\n",
       "      <td>0.919499</td>\n",
       "    </tr>\n",
       "    <tr>\n",
       "      <th>9</th>\n",
       "      <td>moe_beta</td>\n",
       "      <td>3</td>\n",
       "      <td>Prediction test</td>\n",
       "      <td>0.741946</td>\n",
       "    </tr>\n",
       "    <tr>\n",
       "      <th>10</th>\n",
       "      <td>moe_beta</td>\n",
       "      <td>3</td>\n",
       "      <td>NMI</td>\n",
       "      <td>0.353716</td>\n",
       "    </tr>\n",
       "    <tr>\n",
       "      <th>11</th>\n",
       "      <td>moe_beta</td>\n",
       "      <td>3</td>\n",
       "      <td>kNN within</td>\n",
       "      <td>0.943342</td>\n",
       "    </tr>\n",
       "    <tr>\n",
       "      <th>12</th>\n",
       "      <td>moe_beta</td>\n",
       "      <td>4</td>\n",
       "      <td>Prediction test</td>\n",
       "      <td>0.776759</td>\n",
       "    </tr>\n",
       "    <tr>\n",
       "      <th>13</th>\n",
       "      <td>moe_beta</td>\n",
       "      <td>4</td>\n",
       "      <td>NMI</td>\n",
       "      <td>0.435814</td>\n",
       "    </tr>\n",
       "    <tr>\n",
       "      <th>14</th>\n",
       "      <td>moe_beta</td>\n",
       "      <td>4</td>\n",
       "      <td>kNN within</td>\n",
       "      <td>0.942178</td>\n",
       "    </tr>\n",
       "  </tbody>\n",
       "</table>\n",
       "</div>"
      ],
      "text/plain": [
       "       model  split          metrics    scores\n",
       "0   moe_beta      0  Prediction test  0.711281\n",
       "1   moe_beta      0              NMI  0.320359\n",
       "2   moe_beta      0       kNN within  0.945995\n",
       "3   moe_beta      1  Prediction test  0.830582\n",
       "4   moe_beta      1              NMI  0.381781\n",
       "5   moe_beta      1       kNN within  0.943557\n",
       "6   moe_beta      2  Prediction test  0.730390\n",
       "7   moe_beta      2              NMI  0.341581\n",
       "8   moe_beta      2       kNN within  0.919499\n",
       "9   moe_beta      3  Prediction test  0.741946\n",
       "10  moe_beta      3              NMI  0.353716\n",
       "11  moe_beta      3       kNN within  0.943342\n",
       "12  moe_beta      4  Prediction test  0.776759\n",
       "13  moe_beta      4              NMI  0.435814\n",
       "14  moe_beta      4       kNN within  0.942178"
      ]
     },
     "execution_count": 23,
     "metadata": {},
     "output_type": "execute_result"
    }
   ],
   "source": [
    "donor = 2\n",
    "dataset = f'10x_{donor}'\n",
    "metadata = ['binding_name', 'clonotype', 'donor']\n",
    "\n",
    "model_names = []\n",
    "splits = []\n",
    "metrics = []\n",
    "scores = []\n",
    "\n",
    "for split in range(0, 5):\n",
    "    data = load_10x_data(donor, split)\n",
    "\n",
    "    print(f'split: {split}')\n",
    "    model = load_model(data, dataset, split)\n",
    "    test_embedding_func = get_model_prediction_function(model)\n",
    "    for source in ['test']:\n",
    "        summary = run_imputation_evaluation(data, test_embedding_func, query_source=source,\n",
    "                                    label_pred='binding_name')\n",
    "        result = summary['knn']['weighted avg']['f1-score']\n",
    "\n",
    "        model_names.append('moe_beta')\n",
    "        splits.append(split)\n",
    "        metrics.append(f'Prediction {source}')\n",
    "        scores.append(result)\n",
    "\n",
    "    best_nmi = -99\n",
    "    for resolution in [0.01, 0.1, 1.0]:\n",
    "        cluster_result = run_clustering_evaluation(data, test_embedding_func, 'train', name_label='binding_name', \n",
    "                                           cluster_params={'resolution': resolution, 'num_neighbors': 5})\n",
    "        best_nmi = max(cluster_result['NMI'], best_nmi)\n",
    "    model_names.append('moe_beta')\n",
    "    splits.append(split)\n",
    "    metrics.append('NMI')\n",
    "    scores.append(best_nmi)\n",
    "\n",
    "    test_embedding_func = get_model_prediction_function(model, do_adata=True, metadata=['binding_name'])\n",
    "    knn_within = run_knn_within_set_evaluation(data, test_embedding_func, \n",
    "                                               'binding_name', subset=['train', 'val'])\n",
    "    knn_within = knn_within['weighted_f1_binding_name']\n",
    "    model_names.append('moe_beta')\n",
    "    splits.append(split)\n",
    "    metrics.append('kNN within')\n",
    "    scores.append(knn_within)\n",
    "\n",
    "        \n",
    "results_10x_2 = {\n",
    "    'model': model_names,\n",
    "    'split': splits,\n",
    "    'metrics': metrics,\n",
    "    'scores': scores,\n",
    "}\n",
    "results_10x_2 = pd.DataFrame(results_10x_2)\n",
    "results_10x_2.to_csv('results/performance_10x_donor_2_beta.csv')\n",
    "results_10x_2"
   ]
  },
  {
   "cell_type": "markdown",
   "id": "244b5fb6",
   "metadata": {},
   "source": [
    "## Covid"
   ]
  },
  {
   "cell_type": "code",
   "execution_count": 24,
   "id": "eab5f8a9",
   "metadata": {},
   "outputs": [
    {
     "name": "stdout",
     "output_type": "stream",
     "text": [
      "split: 0\n",
      "split: 1\n",
      "split: 2\n",
      "split: 3\n",
      "split: 4\n"
     ]
    }
   ],
   "source": [
    "metadata = ['T_cells', 'clonotype', 'responsive']\n",
    "\n",
    "model_names = []\n",
    "splits = []\n",
    "metrics = []\n",
    "scores = []\n",
    "\n",
    "for split in range(0, 5):\n",
    "    data = load_covid_data(split)\n",
    "\n",
    "    print(f'split: {split}')\n",
    "    model = load_model(data, 'Covid', split)\n",
    "    test_embedding_func = get_model_prediction_function(model)\n",
    "\n",
    "    best_nmi = -99\n",
    "    for resolution in [0.01, 0.1, 1.0]:\n",
    "        cluster_result = run_clustering_evaluation(data, test_embedding_func, 'train', name_label='T_cells', \n",
    "                                           cluster_params={'resolution': resolution, 'num_neighbors': 5})\n",
    "        best_nmi = max(cluster_result['NMI'], best_nmi)\n",
    "    model_names.append('moe_beta')\n",
    "    splits.append(split)\n",
    "    metrics.append('NMI_cell_type')\n",
    "    scores.append(best_nmi)\n",
    "\n",
    "    best_nmi = -99\n",
    "    for resolution in [0.01, 0.1, 1.0]:\n",
    "        cluster_result = run_clustering_evaluation(data, test_embedding_func, 'train', name_label='responsive', \n",
    "                                           cluster_params={'resolution': resolution, 'num_neighbors': 5})\n",
    "        best_nmi = max(cluster_result['NMI'], best_nmi)\n",
    "    model_names.append('moe_beta')\n",
    "    splits.append(split)\n",
    "    metrics.append('NMI_reactivity')\n",
    "    scores.append(best_nmi)\n",
    "\n",
    "    for label_name in ['responsive', 'cell_type']:\n",
    "        test_embedding_func = get_model_prediction_function(model, do_adata=True, metadata=[label_name])\n",
    "        knn_within = run_knn_within_set_evaluation(data, test_embedding_func, \n",
    "                                                   label_name, subset=['train', 'val'])\n",
    "        knn_within = knn_within[f'weighted_f1_{label_name}']\n",
    "        model_names.append('moe_beta')\n",
    "        splits.append(split)\n",
    "        metrics.append(f'kNN {label_name}')\n",
    "        scores.append(knn_within)\n",
    "\n",
    "        \n",
    "results_covid = {\n",
    "    'model': model_names,\n",
    "    'split': splits,\n",
    "    'metrics': metrics,\n",
    "    'scores': scores,\n",
    "}\n",
    "results_covid = pd.DataFrame(results_covid)\n",
    "results_covid.to_csv('results/performance_covid_beta.csv')"
   ]
  },
  {
   "cell_type": "code",
   "execution_count": null,
   "id": "b3ccba8f",
   "metadata": {},
   "outputs": [],
   "source": []
  },
  {
   "cell_type": "code",
   "execution_count": null,
   "id": "f06e64ff",
   "metadata": {},
   "outputs": [],
   "source": []
  },
  {
   "cell_type": "code",
   "execution_count": null,
   "id": "e0a84964",
   "metadata": {},
   "outputs": [],
   "source": []
  },
  {
   "cell_type": "code",
   "execution_count": null,
   "id": "5df9ebcc",
   "metadata": {},
   "outputs": [],
   "source": []
  },
  {
   "cell_type": "code",
   "execution_count": null,
   "id": "8587a355",
   "metadata": {},
   "outputs": [],
   "source": []
  }
 ],
 "metadata": {
  "kernelspec": {
   "display_name": "Python [conda env:mvTCR]",
   "language": "python",
   "name": "conda-env-mvTCR-py"
  },
  "language_info": {
   "codemirror_mode": {
    "name": "ipython",
    "version": 3
   },
   "file_extension": ".py",
   "mimetype": "text/x-python",
   "name": "python",
   "nbconvert_exporter": "python",
   "pygments_lexer": "ipython3",
   "version": "3.8.8"
  }
 },
 "nbformat": 4,
 "nbformat_minor": 5
}
