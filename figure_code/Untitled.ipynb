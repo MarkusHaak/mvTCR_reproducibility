{
 "cells": [
  {
   "cell_type": "code",
   "execution_count": 16,
   "id": "cce05301",
   "metadata": {},
   "outputs": [],
   "source": [
    "import scanpy as sc\n",
    "import sys\n",
    "sys.path.append('../..')\n",
    "import tcr_embedding.utils_training as utils\n",
    "import config.constants_10x as const"
   ]
  },
  {
   "cell_type": "code",
   "execution_count": 2,
   "id": "94955371",
   "metadata": {},
   "outputs": [],
   "source": [
    "path_data = '../../data/10x_CD8TC/v7_avidity.h5ad'"
   ]
  },
  {
   "cell_type": "code",
   "execution_count": 3,
   "id": "7b20f0af",
   "metadata": {},
   "outputs": [],
   "source": [
    "adata = sc.read(path_data)"
   ]
  },
  {
   "cell_type": "code",
   "execution_count": 10,
   "id": "eec69350",
   "metadata": {},
   "outputs": [
    {
     "data": {
      "text/plain": [
       "0.9422729999999999"
      ]
     },
     "execution_count": 10,
     "metadata": {},
     "output_type": "execute_result"
    }
   ],
   "source": [
    "0.681700+0.260573"
   ]
  },
  {
   "cell_type": "code",
   "execution_count": 17,
   "id": "9b4676bf",
   "metadata": {},
   "outputs": [],
   "source": [
    "def load_10x_data(donor):\n",
    "    adata = utils.load_data('10x')\n",
    "    adata = adata[adata.obs['donor'] == f'donor_{donor}']\n",
    "    adata = adata[adata.obs['binding_name'].isin(const.HIGH_COUNT_ANTIGENS)]\n",
    "    return adata\n",
    "adata_1 = load_10x_data(1)\n",
    "adata_2 = load_10x_data(2)"
   ]
  },
  {
   "cell_type": "code",
   "execution_count": 20,
   "id": "b7ad2360",
   "metadata": {},
   "outputs": [
    {
     "data": {
      "text/plain": [
       "A0301_KLGGALQAK_IE-1_CMV_binder            2774\n",
       "A1101_IVTDFSVIK_EBNA-3B_EBV_binder         2700\n",
       "A0201_GILGFVFTL_Flu-MP_Influenza_binder    1958\n",
       "A1101_AVFDRKSDAK_EBNA-3B_EBV_binder        1849\n",
       "A0201_ELAGIGILTV_MART-1_Cancer_binder       172\n",
       "A0301_RLRAEAQVK_EMNA-3A_EBV_binder          101\n",
       "B0801_RAKFKQLL_BZLF1_EBV_binder              66\n",
       "A0201_GLCTLVAML_BMLF1_EBV_binder             19\n",
       "Name: binding_name, dtype: int64"
      ]
     },
     "execution_count": 20,
     "metadata": {},
     "output_type": "execute_result"
    }
   ],
   "source": [
    "adata_1.obs['binding_name'].value_counts()"
   ]
  },
  {
   "cell_type": "code",
   "execution_count": 21,
   "id": "6c4f173c",
   "metadata": {},
   "outputs": [
    {
     "data": {
      "text/plain": [
       "B0801_RAKFKQLL_BZLF1_EBV_binder            16410\n",
       "A0201_GILGFVFTL_Flu-MP_Influenza_binder     5412\n",
       "A0301_KLGGALQAK_IE-1_CMV_binder             3587\n",
       "A0201_GLCTLVAML_BMLF1_EBV_binder            1224\n",
       "A1101_AVFDRKSDAK_EBNA-3B_EBV_binder          362\n",
       "A1101_IVTDFSVIK_EBNA-3B_EBV_binder            80\n",
       "A0301_RLRAEAQVK_EMNA-3A_EBV_binder            68\n",
       "A0201_ELAGIGILTV_MART-1_Cancer_binder         28\n",
       "Name: binding_name, dtype: int64"
      ]
     },
     "execution_count": 21,
     "metadata": {},
     "output_type": "execute_result"
    }
   ],
   "source": [
    "adata_2.obs['binding_name'].value_counts()"
   ]
  }
 ],
 "metadata": {
  "kernelspec": {
   "display_name": "Python [conda env:mvtcr_4]",
   "language": "python",
   "name": "conda-env-mvtcr_4-py"
  },
  "language_info": {
   "codemirror_mode": {
    "name": "ipython",
    "version": 3
   },
   "file_extension": ".py",
   "mimetype": "text/x-python",
   "name": "python",
   "nbconvert_exporter": "python",
   "pygments_lexer": "ipython3",
   "version": "3.8.8"
  }
 },
 "nbformat": 4,
 "nbformat_minor": 5
}
